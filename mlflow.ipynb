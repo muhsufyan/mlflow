{
  "nbformat": 4,
  "nbformat_minor": 0,
  "metadata": {
    "colab": {
      "provenance": [],
      "authorship_tag": "ABX9TyNtRZPob6jK0qcCxzPyRYKs"
    },
    "kernelspec": {
      "name": "python3",
      "display_name": "Python 3"
    },
    "language_info": {
      "name": "python"
    }
  },
  "cells": [
    {
      "cell_type": "markdown",
      "source": [
        "# install"
      ],
      "metadata": {
        "id": "VVebBm46CzdC"
      }
    },
    {
      "cell_type": "code",
      "execution_count": 1,
      "metadata": {
        "colab": {
          "base_uri": "https://localhost:8080/"
        },
        "id": "CIBH6InCCv_0",
        "outputId": "d13eb6fb-341b-48b4-9199-fd6d6302dc63"
      },
      "outputs": [
        {
          "output_type": "stream",
          "name": "stdout",
          "text": [
            "Collecting mlflow\n",
            "  Downloading mlflow-2.9.2-py3-none-any.whl (19.1 MB)\n",
            "\u001b[2K     \u001b[90m━━━━━━━━━━━━━━━━━━━━━━━━━━━━━━━━━━━━━━━━\u001b[0m \u001b[32m19.1/19.1 MB\u001b[0m \u001b[31m21.3 MB/s\u001b[0m eta \u001b[36m0:00:00\u001b[0m\n",
            "\u001b[?25hRequirement already satisfied: click<9,>=7.0 in /usr/local/lib/python3.10/dist-packages (from mlflow) (8.1.7)\n",
            "Requirement already satisfied: cloudpickle<4 in /usr/local/lib/python3.10/dist-packages (from mlflow) (2.2.1)\n",
            "Collecting databricks-cli<1,>=0.8.7 (from mlflow)\n",
            "  Downloading databricks_cli-0.18.0-py2.py3-none-any.whl (150 kB)\n",
            "\u001b[2K     \u001b[90m━━━━━━━━━━━━━━━━━━━━━━━━━━━━━━━━━━━━━━━━\u001b[0m \u001b[32m150.3/150.3 kB\u001b[0m \u001b[31m11.1 MB/s\u001b[0m eta \u001b[36m0:00:00\u001b[0m\n",
            "\u001b[?25hRequirement already satisfied: entrypoints<1 in /usr/local/lib/python3.10/dist-packages (from mlflow) (0.4)\n",
            "Collecting gitpython<4,>=2.1.0 (from mlflow)\n",
            "  Downloading GitPython-3.1.40-py3-none-any.whl (190 kB)\n",
            "\u001b[2K     \u001b[90m━━━━━━━━━━━━━━━━━━━━━━━━━━━━━━━━━━━━━━━━\u001b[0m \u001b[32m190.6/190.6 kB\u001b[0m \u001b[31m14.1 MB/s\u001b[0m eta \u001b[36m0:00:00\u001b[0m\n",
            "\u001b[?25hRequirement already satisfied: pyyaml<7,>=5.1 in /usr/local/lib/python3.10/dist-packages (from mlflow) (6.0.1)\n",
            "Requirement already satisfied: protobuf<5,>=3.12.0 in /usr/local/lib/python3.10/dist-packages (from mlflow) (3.20.3)\n",
            "Requirement already satisfied: pytz<2024 in /usr/local/lib/python3.10/dist-packages (from mlflow) (2023.3.post1)\n",
            "Requirement already satisfied: requests<3,>=2.17.3 in /usr/local/lib/python3.10/dist-packages (from mlflow) (2.31.0)\n",
            "Requirement already satisfied: packaging<24 in /usr/local/lib/python3.10/dist-packages (from mlflow) (23.2)\n",
            "Requirement already satisfied: importlib-metadata!=4.7.0,<8,>=3.7.0 in /usr/local/lib/python3.10/dist-packages (from mlflow) (7.0.0)\n",
            "Requirement already satisfied: sqlparse<1,>=0.4.0 in /usr/local/lib/python3.10/dist-packages (from mlflow) (0.4.4)\n",
            "Collecting alembic!=1.10.0,<2 (from mlflow)\n",
            "  Downloading alembic-1.13.1-py3-none-any.whl (233 kB)\n",
            "\u001b[2K     \u001b[90m━━━━━━━━━━━━━━━━━━━━━━━━━━━━━━━━━━━━━━━━\u001b[0m \u001b[32m233.4/233.4 kB\u001b[0m \u001b[31m17.8 MB/s\u001b[0m eta \u001b[36m0:00:00\u001b[0m\n",
            "\u001b[?25hCollecting docker<7,>=4.0.0 (from mlflow)\n",
            "  Downloading docker-6.1.3-py3-none-any.whl (148 kB)\n",
            "\u001b[2K     \u001b[90m━━━━━━━━━━━━━━━━━━━━━━━━━━━━━━━━━━━━━━━━\u001b[0m \u001b[32m148.1/148.1 kB\u001b[0m \u001b[31m15.4 MB/s\u001b[0m eta \u001b[36m0:00:00\u001b[0m\n",
            "\u001b[?25hRequirement already satisfied: Flask<4 in /usr/local/lib/python3.10/dist-packages (from mlflow) (2.2.5)\n",
            "Requirement already satisfied: numpy<2 in /usr/local/lib/python3.10/dist-packages (from mlflow) (1.23.5)\n",
            "Requirement already satisfied: scipy<2 in /usr/local/lib/python3.10/dist-packages (from mlflow) (1.11.4)\n",
            "Requirement already satisfied: pandas<3 in /usr/local/lib/python3.10/dist-packages (from mlflow) (1.5.3)\n",
            "Collecting querystring-parser<2 (from mlflow)\n",
            "  Downloading querystring_parser-1.2.4-py2.py3-none-any.whl (7.9 kB)\n",
            "Requirement already satisfied: sqlalchemy<3,>=1.4.0 in /usr/local/lib/python3.10/dist-packages (from mlflow) (2.0.23)\n",
            "Requirement already satisfied: scikit-learn<2 in /usr/local/lib/python3.10/dist-packages (from mlflow) (1.2.2)\n",
            "Requirement already satisfied: pyarrow<15,>=4.0.0 in /usr/local/lib/python3.10/dist-packages (from mlflow) (10.0.1)\n",
            "Requirement already satisfied: markdown<4,>=3.3 in /usr/local/lib/python3.10/dist-packages (from mlflow) (3.5.1)\n",
            "Requirement already satisfied: matplotlib<4 in /usr/local/lib/python3.10/dist-packages (from mlflow) (3.7.1)\n",
            "Collecting gunicorn<22 (from mlflow)\n",
            "  Downloading gunicorn-21.2.0-py3-none-any.whl (80 kB)\n",
            "\u001b[2K     \u001b[90m━━━━━━━━━━━━━━━━━━━━━━━━━━━━━━━━━━━━━━━━\u001b[0m \u001b[32m80.2/80.2 kB\u001b[0m \u001b[31m7.8 MB/s\u001b[0m eta \u001b[36m0:00:00\u001b[0m\n",
            "\u001b[?25hRequirement already satisfied: Jinja2<4,>=2.11 in /usr/local/lib/python3.10/dist-packages (from mlflow) (3.1.2)\n",
            "Collecting Mako (from alembic!=1.10.0,<2->mlflow)\n",
            "  Downloading Mako-1.3.0-py3-none-any.whl (78 kB)\n",
            "\u001b[2K     \u001b[90m━━━━━━━━━━━━━━━━━━━━━━━━━━━━━━━━━━━━━━━━\u001b[0m \u001b[32m78.6/78.6 kB\u001b[0m \u001b[31m7.0 MB/s\u001b[0m eta \u001b[36m0:00:00\u001b[0m\n",
            "\u001b[?25hRequirement already satisfied: typing-extensions>=4 in /usr/local/lib/python3.10/dist-packages (from alembic!=1.10.0,<2->mlflow) (4.5.0)\n",
            "Requirement already satisfied: pyjwt>=1.7.0 in /usr/lib/python3/dist-packages (from databricks-cli<1,>=0.8.7->mlflow) (2.3.0)\n",
            "Requirement already satisfied: oauthlib>=3.1.0 in /usr/local/lib/python3.10/dist-packages (from databricks-cli<1,>=0.8.7->mlflow) (3.2.2)\n",
            "Requirement already satisfied: tabulate>=0.7.7 in /usr/local/lib/python3.10/dist-packages (from databricks-cli<1,>=0.8.7->mlflow) (0.9.0)\n",
            "Requirement already satisfied: six>=1.10.0 in /usr/local/lib/python3.10/dist-packages (from databricks-cli<1,>=0.8.7->mlflow) (1.16.0)\n",
            "Requirement already satisfied: urllib3<3,>=1.26.7 in /usr/local/lib/python3.10/dist-packages (from databricks-cli<1,>=0.8.7->mlflow) (2.0.7)\n",
            "Requirement already satisfied: websocket-client>=0.32.0 in /usr/local/lib/python3.10/dist-packages (from docker<7,>=4.0.0->mlflow) (1.7.0)\n",
            "Requirement already satisfied: Werkzeug>=2.2.2 in /usr/local/lib/python3.10/dist-packages (from Flask<4->mlflow) (3.0.1)\n",
            "Requirement already satisfied: itsdangerous>=2.0 in /usr/local/lib/python3.10/dist-packages (from Flask<4->mlflow) (2.1.2)\n",
            "Collecting gitdb<5,>=4.0.1 (from gitpython<4,>=2.1.0->mlflow)\n",
            "  Downloading gitdb-4.0.11-py3-none-any.whl (62 kB)\n",
            "\u001b[2K     \u001b[90m━━━━━━━━━━━━━━━━━━━━━━━━━━━━━━━━━━━━━━━━\u001b[0m \u001b[32m62.7/62.7 kB\u001b[0m \u001b[31m6.3 MB/s\u001b[0m eta \u001b[36m0:00:00\u001b[0m\n",
            "\u001b[?25hRequirement already satisfied: zipp>=0.5 in /usr/local/lib/python3.10/dist-packages (from importlib-metadata!=4.7.0,<8,>=3.7.0->mlflow) (3.17.0)\n",
            "Requirement already satisfied: MarkupSafe>=2.0 in /usr/local/lib/python3.10/dist-packages (from Jinja2<4,>=2.11->mlflow) (2.1.3)\n",
            "Requirement already satisfied: contourpy>=1.0.1 in /usr/local/lib/python3.10/dist-packages (from matplotlib<4->mlflow) (1.2.0)\n",
            "Requirement already satisfied: cycler>=0.10 in /usr/local/lib/python3.10/dist-packages (from matplotlib<4->mlflow) (0.12.1)\n",
            "Requirement already satisfied: fonttools>=4.22.0 in /usr/local/lib/python3.10/dist-packages (from matplotlib<4->mlflow) (4.46.0)\n",
            "Requirement already satisfied: kiwisolver>=1.0.1 in /usr/local/lib/python3.10/dist-packages (from matplotlib<4->mlflow) (1.4.5)\n",
            "Requirement already satisfied: pillow>=6.2.0 in /usr/local/lib/python3.10/dist-packages (from matplotlib<4->mlflow) (9.4.0)\n",
            "Requirement already satisfied: pyparsing>=2.3.1 in /usr/local/lib/python3.10/dist-packages (from matplotlib<4->mlflow) (3.1.1)\n",
            "Requirement already satisfied: python-dateutil>=2.7 in /usr/local/lib/python3.10/dist-packages (from matplotlib<4->mlflow) (2.8.2)\n",
            "Requirement already satisfied: charset-normalizer<4,>=2 in /usr/local/lib/python3.10/dist-packages (from requests<3,>=2.17.3->mlflow) (3.3.2)\n",
            "Requirement already satisfied: idna<4,>=2.5 in /usr/local/lib/python3.10/dist-packages (from requests<3,>=2.17.3->mlflow) (3.6)\n",
            "Requirement already satisfied: certifi>=2017.4.17 in /usr/local/lib/python3.10/dist-packages (from requests<3,>=2.17.3->mlflow) (2023.11.17)\n",
            "Requirement already satisfied: joblib>=1.1.1 in /usr/local/lib/python3.10/dist-packages (from scikit-learn<2->mlflow) (1.3.2)\n",
            "Requirement already satisfied: threadpoolctl>=2.0.0 in /usr/local/lib/python3.10/dist-packages (from scikit-learn<2->mlflow) (3.2.0)\n",
            "Requirement already satisfied: greenlet!=0.4.17 in /usr/local/lib/python3.10/dist-packages (from sqlalchemy<3,>=1.4.0->mlflow) (3.0.2)\n",
            "Collecting smmap<6,>=3.0.1 (from gitdb<5,>=4.0.1->gitpython<4,>=2.1.0->mlflow)\n",
            "  Downloading smmap-5.0.1-py3-none-any.whl (24 kB)\n",
            "Installing collected packages: smmap, querystring-parser, Mako, gunicorn, gitdb, docker, databricks-cli, alembic, gitpython, mlflow\n",
            "Successfully installed Mako-1.3.0 alembic-1.13.1 databricks-cli-0.18.0 docker-6.1.3 gitdb-4.0.11 gitpython-3.1.40 gunicorn-21.2.0 mlflow-2.9.2 querystring-parser-1.2.4 smmap-5.0.1\n"
          ]
        }
      ],
      "source": [
        "!pip install mlflow"
      ]
    },
    {
      "cell_type": "markdown",
      "source": [
        "# buat eksperimen\n",
        "yg dilakukan pd tahap ini adalah\n",
        "* melatih model\n",
        "* hyperparameter tuning\n",
        "* tracking training dan hyperparameternya menggunakan mlflow sehingga mlflow akan membuat artifact nya (isinya training, data dan konfigurasi hyperparameter)"
      ],
      "metadata": {
        "id": "Z9GMv8CFC5SL"
      }
    },
    {
      "cell_type": "code",
      "source": [
        "# membuat eksperimen yg dpt ditracking oleh mlflow\n",
        "import mlflow\n",
        "\n",
        "# artifact akan disimpan di directory experiment_artifact\n",
        "# artifact isinya bisa berupa training, hyperparameter, evaluasi, confusion matrix, file hasil training (untuk fine tuning), dll\n",
        "!mkdir experiment_artifact\n",
        "\n",
        "# buat eksperimen menggunakan mlflow\n",
        "mlflow.create_experiment(\n",
        "    name = \"experimen_1\",\n",
        "    artifact_location='experiment_artifact/',\n",
        "    tags = {\"env\":\"dev\", \"version\":\"1.0.0\"},\n",
        ")"
      ],
      "metadata": {
        "colab": {
          "base_uri": "https://localhost:8080/",
          "height": 35
        },
        "id": "dqDgEfbKC77c",
        "outputId": "d5b74c83-92c2-488f-b06c-07d1d0ed3ac6"
      },
      "execution_count": null,
      "outputs": [
        {
          "output_type": "execute_result",
          "data": {
            "text/plain": [
              "'486176321809614432'"
            ],
            "application/vnd.google.colaboratory.intrinsic+json": {
              "type": "string"
            }
          },
          "metadata": {},
          "execution_count": 4
        }
      ]
    },
    {
      "cell_type": "markdown",
      "source": [
        "ketika dirunning akan generate direktori mlruns/ isinya ada 0 (id dari eksperimen, dibuat scra otomatis oleh mlflow dan start defaultnya 0) dan 486176321809614432 (eksperimen yg dilakukan)\n",
        "\n",
        "isi dari mlruns/0/meta.yaml adlh\n",
        "\n",
        "    artifact_location: file:///content/mlruns/0\n",
        "    creation_time: 1703677323276\n",
        "    experiment_id: '0'\n",
        "    last_update_time: 1703677323276\n",
        "    lifecycle_stage: active\n",
        "    name: Default\n",
        "\n",
        "name nya Default karena id dibuat oleh mlflow\n",
        "\n",
        "isi dari mlruns/48617.../meta.yaml (artifact dari ekperimen yg kita lakukan)\n",
        "\n",
        "    artifact_location: /content/experiment_artifact\n",
        "    creation_time: 1703677323286\n",
        "    experiment_id: '486176321809614432'\n",
        "    last_update_time: 1703677323286\n",
        "    lifecycle_stage: active\n",
        "    name: experimen_1\n",
        "\n",
        "selain itu ada juga `/content/mlruns/486176321809614432/tags/env` dan `/content/mlruns/486176321809614432/tags/version` yg merupakan isi dari tags ketika kita pertama membuat experiment\n",
        "\n",
        "untuk melihat eksperimen dlm ui maka gunakan perintah berikut di terminal\n",
        "\n",
        "    mlflow ui\n",
        "\n",
        "\n"
      ],
      "metadata": {
        "id": "QvqLEh3MFTir"
      }
    },
    {
      "cell_type": "code",
      "source": [
        "!mlflow ui"
      ],
      "metadata": {
        "colab": {
          "base_uri": "https://localhost:8080/"
        },
        "id": "zRFbdX6mG1v_",
        "outputId": "1b84569f-3644-43a8-975d-bbdcceeeb845"
      },
      "execution_count": null,
      "outputs": [
        {
          "output_type": "stream",
          "name": "stdout",
          "text": [
            "[2023-12-27 11:49:13 +0000] [4461] [INFO] Starting gunicorn 21.2.0\n",
            "[2023-12-27 11:49:13 +0000] [4461] [INFO] Listening at: http://127.0.0.1:5000 (4461)\n",
            "[2023-12-27 11:49:13 +0000] [4461] [INFO] Using worker: sync\n",
            "[2023-12-27 11:49:13 +0000] [4462] [INFO] Booting worker with pid: 4462\n",
            "[2023-12-27 11:49:14 +0000] [4463] [INFO] Booting worker with pid: 4463\n",
            "[2023-12-27 11:49:14 +0000] [4464] [INFO] Booting worker with pid: 4464\n",
            "[2023-12-27 11:49:14 +0000] [4465] [INFO] Booting worker with pid: 4465\n",
            "\n",
            "Aborted!\n",
            "[2023-12-27 11:49:54 +0000] [4461] [INFO] Handling signal: int\n",
            "[2023-12-27 11:49:54 +0000] [4462] [INFO] Worker exiting (pid: 4462)\n",
            "[2023-12-27 11:49:54 +0000] [4465] [INFO] Worker exiting (pid: 4465)\n",
            "[2023-12-27 11:49:54 +0000] [4464] [INFO] Worker exiting (pid: 4464)\n",
            "[2023-12-27 11:49:54 +0000] [4463] [INFO] Worker exiting (pid: 4463)\n",
            "[2023-12-27 11:49:55 +0000] [4461] [INFO] Shutting down: Master\n"
          ]
        }
      ]
    },
    {
      "cell_type": "markdown",
      "source": [
        "agar lbh baik struktur kodenya maka kita buat fungsi eksperimen"
      ],
      "metadata": {
        "id": "dLFdcBjCHQc3"
      }
    },
    {
      "cell_type": "code",
      "source": [
        "import mlflow\n",
        "from typing import Any\n",
        "\n",
        "def create_experiment_mlflow(experiment_name: str, artifact_save_location: str, tags: dict[str, Any]) -> str:\n",
        "  # jika experiment blm pernah dibuat\n",
        "  try:\n",
        "    experiment_id = mlflow.create_experiment(\n",
        "        name = experiment_name, artifact_location = artifact_save_location, tags = tags\n",
        "    )\n",
        "  # jika experiment sdh pernah dibuat\n",
        "  except:\n",
        "    print(f\"Experiment {experiment_name} already exists.\")\n",
        "    # dptkan id dari experiment nya\n",
        "    experiment_id = mlflow.get_experiment_by_name(experiment_name).experiment_id\n",
        "\n",
        "  return experiment_id"
      ],
      "metadata": {
        "id": "V2llMj6qHV19"
      },
      "execution_count": 2,
      "outputs": []
    },
    {
      "cell_type": "code",
      "source": [
        "experiment_id = create_experiment_mlflow(\n",
        "    experiment_name = \"experimen_1\",\n",
        "    artifact_save_location ='experiment_artifact/',\n",
        "    tags = {\"env\":\"dev\", \"version\":\"1.0.0\"},\n",
        ")\n",
        "print(experiment_id)"
      ],
      "metadata": {
        "colab": {
          "base_uri": "https://localhost:8080/"
        },
        "id": "KVbvFw6IJa3b",
        "outputId": "1b766a8c-5f02-42e6-f282-3da09ec59556"
      },
      "execution_count": null,
      "outputs": [
        {
          "output_type": "stream",
          "name": "stdout",
          "text": [
            "Experiment experimen_1 already exists.\n",
            "486176321809614432\n"
          ]
        }
      ]
    },
    {
      "cell_type": "code",
      "source": [
        "experiment_id = create_experiment_mlflow(\n",
        "    experiment_name = \"experimen_2\",\n",
        "    artifact_save_location ='experiment_artifact/',\n",
        "    tags = {\"env\":\"dev\", \"version\":\"1.0.0\"},\n",
        ")\n",
        "print(experiment_id)"
      ],
      "metadata": {
        "colab": {
          "base_uri": "https://localhost:8080/"
        },
        "id": "Ka7hkAjCJsjR",
        "outputId": "665e6fb2-3528-40ec-cd3d-e46c0f813f3c"
      },
      "execution_count": null,
      "outputs": [
        {
          "output_type": "stream",
          "name": "stdout",
          "text": [
            "531631867608238165\n"
          ]
        }
      ]
    },
    {
      "cell_type": "markdown",
      "source": [
        "# Retrieving Experiments\n",
        "mendapatkan informasi tentang eksperimen yg tlh dibuat."
      ],
      "metadata": {
        "id": "C4wMNHnUKem4"
      }
    },
    {
      "cell_type": "code",
      "source": [
        "import mlflow\n",
        "# untuk mendptkan informasi tentang eksperimen, mlflow perlu tahu id dari eksperimennya atau nama dari eksperimennya\n",
        "# sehingga kedua data tsb jd parameter pd fungsi yg kita buat\n",
        "def get_mlflow_experiment(experiment_id: str = None, experiment_name: str = None) -> mlflow.entities.Experiment:\n",
        "    # get informasi id eksperimen\n",
        "    if experiment_id is not None:\n",
        "        experiment = mlflow.get_experiment(experiment_id)\n",
        "    # get informasi nama eksperimen\n",
        "    elif experiment_name is not None:\n",
        "        experiment = mlflow.get_experiment_by_name(experiment_name)\n",
        "    # eksperiment tdk ada\n",
        "    else:\n",
        "        raise ValueError(\"Either experiment_id or experiment_name must be provided.\")\n",
        "    return experiment"
      ],
      "metadata": {
        "id": "Jj3lbeImK1CW"
      },
      "execution_count": 3,
      "outputs": []
    },
    {
      "cell_type": "code",
      "source": [
        "# cari menggunakan id\n",
        "experiment = get_mlflow_experiment(experiment_id=\"486176321809614432\")\n",
        "\n",
        "print(\"Name: {}\".format(experiment.name))\n",
        "print(\"Experiment_id: {}\".format(experiment.experiment_id))\n",
        "print(\"Artifact Location: {}\".format(experiment.artifact_location))\n",
        "print(\"Tags: {}\".format(experiment.tags))\n",
        "print(\"Lifecycle_stage: {}\".format(experiment.lifecycle_stage))\n",
        "print(\"Creation timestamp: {}\".format(experiment.creation_time))"
      ],
      "metadata": {
        "colab": {
          "base_uri": "https://localhost:8080/"
        },
        "id": "QiBIZbvuLL5l",
        "outputId": "2e80c4d2-036f-44f6-cedf-6668a841b778"
      },
      "execution_count": null,
      "outputs": [
        {
          "output_type": "stream",
          "name": "stdout",
          "text": [
            "Name: experimen_1\n",
            "Experiment_id: 486176321809614432\n",
            "Artifact Location: /content/experiment_artifact\n",
            "Tags: {'version': '1.0.0', 'env': 'dev'}\n",
            "Lifecycle_stage: active\n",
            "Creation timestamp: 1703677323286\n"
          ]
        }
      ]
    },
    {
      "cell_type": "code",
      "source": [
        "# cari menggunakan nama\n",
        "experiment = get_mlflow_experiment(experiment_name=\"experimen_1\")\n",
        "\n",
        "print(\"Name: {}\".format(experiment.name))\n",
        "print(\"Experiment_id: {}\".format(experiment.experiment_id))\n",
        "print(\"Artifact Location: {}\".format(experiment.artifact_location))\n",
        "print(\"Tags: {}\".format(experiment.tags))\n",
        "print(\"Lifecycle_stage: {}\".format(experiment.lifecycle_stage))\n",
        "print(\"Creation timestamp: {}\".format(experiment.creation_time))"
      ],
      "metadata": {
        "colab": {
          "base_uri": "https://localhost:8080/"
        },
        "id": "EUsxjJCaLmjN",
        "outputId": "47fb08ee-6ae3-4906-d112-7e7580edd54f"
      },
      "execution_count": null,
      "outputs": [
        {
          "output_type": "stream",
          "name": "stdout",
          "text": [
            "Name: experimen_1\n",
            "Experiment_id: 486176321809614432\n",
            "Artifact Location: /content/experiment_artifact\n",
            "Tags: {'version': '1.0.0', 'env': 'dev'}\n",
            "Lifecycle_stage: active\n",
            "Creation timestamp: 1703677323286\n"
          ]
        }
      ]
    },
    {
      "cell_type": "markdown",
      "source": [
        "# Deleting experiment\n",
        "menghapus eksperimen yg tlh dibuat."
      ],
      "metadata": {
        "id": "qSDaHM1XMFn3"
      }
    },
    {
      "cell_type": "code",
      "source": [
        "import mlflow\n",
        "\n",
        "# hapus eksperimen dg id yg kita berikan\n",
        "mlflow.delete_experiment(experiment_id='531631867608238165')"
      ],
      "metadata": {
        "id": "iW3rfpKFMQ3s"
      },
      "execution_count": null,
      "outputs": []
    },
    {
      "cell_type": "markdown",
      "source": [
        "maka direktori mlruns/531631867608238165 akan dihapus"
      ],
      "metadata": {
        "id": "3eYRWL9QMpNd"
      }
    },
    {
      "cell_type": "markdown",
      "source": [
        "# MLflow runs"
      ],
      "metadata": {
        "id": "ZNwBy_ugO7qo"
      }
    },
    {
      "cell_type": "markdown",
      "source": [
        "## inisialisasi/memulai (start) mlflor run\n",
        "untuk mendptkan log maka kita perlu menjlnkan mlflow runs\n",
        "\n",
        "stlh itu baru kita dpt menyimpan log (misalnya parameter) kedlm eksperimen\n",
        "\n",
        "selain parameter kita bisa memasukkan description, metrics, tags, artifact kedlm eksperimen"
      ],
      "metadata": {
        "id": "e9Xeipo4M0UP"
      }
    },
    {
      "cell_type": "code",
      "source": [
        "import mlflow\n",
        "# inisialisasi mlflow runs\n",
        "mlflow.start_run()\n",
        "\n",
        "# informasi log parameter misalnya learning rate dimasukkan kedlm eksperimen\n",
        "mlflow.log_param(\"learning_rate\", 0.01)\n",
        "\n",
        "# akhiri mlflow runs nya\n",
        "mlflow.end_run()"
      ],
      "metadata": {
        "id": "HpsRl-4VNsPc"
      },
      "execution_count": null,
      "outputs": []
    },
    {
      "cell_type": "markdown",
      "source": [
        "## inisialisasi/memulai (start) mlflor run serta menggunakan with\n",
        "yg didlm indentasi with akan masuk kedlm log dari mlflow jd kode lbh simple"
      ],
      "metadata": {
        "id": "SCBAMXnyO9RY"
      }
    },
    {
      "cell_type": "code",
      "source": [
        "import mlflow\n",
        "with mlflow.start_run(run_name=\"mlflow_run\") as run:\n",
        "  # log parameter\n",
        "  mlflow.log_param('learning_rate',0.01)\n",
        "  print('Run id')\n",
        "  print(run.info.run_id)\n",
        "  print('='*10)\n",
        "  print(run.info)"
      ],
      "metadata": {
        "colab": {
          "base_uri": "https://localhost:8080/"
        },
        "id": "9ZZqTjKFPb_S",
        "outputId": "f569b583-478c-4603-e83d-96b0d09b614d"
      },
      "execution_count": null,
      "outputs": [
        {
          "output_type": "stream",
          "name": "stdout",
          "text": [
            "Run id\n",
            "c64fddea6ef040fba0502cf74ab0ee02\n",
            "==========\n",
            "<RunInfo: artifact_uri='file:///content/mlruns/0/c64fddea6ef040fba0502cf74ab0ee02/artifacts', end_time=None, experiment_id='0', lifecycle_stage='active', run_id='c64fddea6ef040fba0502cf74ab0ee02', run_name='mlflow_run', run_uuid='c64fddea6ef040fba0502cf74ab0ee02', start_time=1703680170426, status='RUNNING', user_id='root'>\n"
          ]
        }
      ]
    },
    {
      "cell_type": "markdown",
      "source": [
        "## tracking eksperimen\n"
      ],
      "metadata": {
        "id": "TNZInaXBQbQ2"
      }
    },
    {
      "cell_type": "code",
      "source": [
        "if __name__==\"__main__\":\n",
        "\n",
        "    # buat eksperimen\n",
        "    experiment_id = create_experiment_mlflow(\n",
        "        experiment_name = \"testing_mlflow1\",\n",
        "        artifact_save_location =\"testing_mlflow1_artifacts\",\n",
        "        tags={\"env\": \"dev\", \"version\": \"1.0.0\"},\n",
        "    )\n",
        "\n",
        "    # cari informasi dari eksperimen yg kita berikan menggunakan name\n",
        "    mlflow.set_experiment(experiment_name='testing_mlflow1')\n",
        "\n",
        "    # jlnkan mlflow run\n",
        "    with mlflow.start_run(run_name=\"testing\") as run:\n",
        "\n",
        "        # masukkan data learning rate kedlm log parameter\n",
        "        mlflow.log_param(\"learning_rate\",0.01)\n",
        "        # run info\n",
        "        print(\"run_id: {}\".format(run.info.run_id))\n",
        "        print(\"experiment_id: {}\".format(run.info.experiment_id))\n",
        "        print(\"status: {}\".format(run.info.status))\n",
        "        print(\"start_time: {}\".format(run.info.start_time))\n",
        "        print(\"end_time: {}\".format(run.info.end_time))\n",
        "        print(\"lifecycle_stage: {}\".format(run.info.lifecycle_stage))"
      ],
      "metadata": {
        "colab": {
          "base_uri": "https://localhost:8080/"
        },
        "id": "oXbopSZTR7-U",
        "outputId": "53afd774-639a-4efd-a24f-b953405f946f"
      },
      "execution_count": null,
      "outputs": [
        {
          "output_type": "stream",
          "name": "stdout",
          "text": [
            "run_id: 15fecba058bc4a1f8687af719a8bc608\n",
            "experiment_id: 501789625614987955\n",
            "status: RUNNING\n",
            "start_time: 1703680756382\n",
            "end_time: None\n",
            "lifecycle_stage: active\n"
          ]
        }
      ]
    },
    {
      "cell_type": "markdown",
      "source": [
        "sekarang kita lihat menggunakan id dari eksperimen"
      ],
      "metadata": {
        "id": "vN-M5ML_Scrl"
      }
    },
    {
      "cell_type": "code",
      "source": [
        "if __name__==\"__main__\":\n",
        "\n",
        "    # buat eksperimen\n",
        "    experiment_id = create_experiment_mlflow(\n",
        "        experiment_name = \"testing_mlflow1\",\n",
        "        artifact_save_location =\"testing_mlflow1_artifacts\",\n",
        "        tags={\"env\": \"dev\", \"version\": \"1.0.0\"},\n",
        "    )\n",
        "\n",
        "    # jlnkan mlflow run\n",
        "    with mlflow.start_run(run_name=\"testing\", experiment_id = experiment.experiment_id) as run:\n",
        "\n",
        "        # masukkan data learning rate kedlm log parameter\n",
        "        mlflow.log_param(\"learning_rate\",0.01)\n",
        "        # run info\n",
        "        print(\"run_id: {}\".format(run.info.run_id))\n",
        "        print(\"experiment_id: {}\".format(run.info.experiment_id))\n",
        "        print(\"status: {}\".format(run.info.status))\n",
        "        print(\"start_time: {}\".format(run.info.start_time))\n",
        "        print(\"end_time: {}\".format(run.info.end_time))\n",
        "        print(\"lifecycle_stage: {}\".format(run.info.lifecycle_stage))"
      ],
      "metadata": {
        "colab": {
          "base_uri": "https://localhost:8080/"
        },
        "id": "DfsVnfAvRHiu",
        "outputId": "76c10d5c-48e6-42bc-9e27-472d70e1497e"
      },
      "execution_count": null,
      "outputs": [
        {
          "output_type": "stream",
          "name": "stdout",
          "text": [
            "Experiment testing_mlflow1 already exists.\n",
            "run_id: 06ad669fb81140e3a97e401bde307e83\n",
            "experiment_id: 501789625614987955\n",
            "status: RUNNING\n",
            "start_time: 1703680884753\n",
            "end_time: None\n",
            "lifecycle_stage: active\n"
          ]
        }
      ]
    },
    {
      "cell_type": "markdown",
      "source": [
        "cari berdsrkan id eksperimen yg kita buat"
      ],
      "metadata": {
        "id": "eC5PDOt5S8XL"
      }
    },
    {
      "cell_type": "code",
      "source": [
        "if __name__==\"__main__\":\n",
        "\n",
        "    # buat eksperimen\n",
        "    experiment_id = create_experiment_mlflow(\n",
        "        experiment_name = \"testing_mlflow1\",\n",
        "        artifact_save_location =\"testing_mlflow1_artifacts\",\n",
        "        tags={\"env\": \"dev\", \"version\": \"1.0.0\"},\n",
        "    )\n",
        "\n",
        "    # dptkan informasi id dari eksperimen\n",
        "    experiment = get_mlflow_experiment(experiment_id=experiment_id)\n",
        "    print(\"Name: {}\".format(experiment.name))\n",
        "\n",
        "    # jlnkan mlflow run\n",
        "    with mlflow.start_run(run_name=\"testing\", experiment_id = experiment.experiment_id) as run:\n",
        "\n",
        "        # masukkan data learning rate kedlm log parameter\n",
        "        mlflow.log_param(\"learning_rate\",0.01)\n",
        "        # run info\n",
        "        print(\"run_id: {}\".format(run.info.run_id))\n",
        "        print(\"experiment_id: {}\".format(run.info.experiment_id))\n",
        "        print(\"status: {}\".format(run.info.status))\n",
        "        print(\"start_time: {}\".format(run.info.start_time))\n",
        "        print(\"end_time: {}\".format(run.info.end_time))\n",
        "        print(\"lifecycle_stage: {}\".format(run.info.lifecycle_stage))"
      ],
      "metadata": {
        "colab": {
          "base_uri": "https://localhost:8080/"
        },
        "id": "h_jMW2J9TAFS",
        "outputId": "36ce442b-cac7-4e81-9092-bf5bde698d02"
      },
      "execution_count": null,
      "outputs": [
        {
          "output_type": "stream",
          "name": "stdout",
          "text": [
            "Name: testing_mlflow1\n",
            "run_id: a7516f6584164744845f3f8e4037ee2b\n",
            "experiment_id: 172815588612644609\n",
            "status: RUNNING\n",
            "start_time: 1703691622188\n",
            "end_time: None\n",
            "lifecycle_stage: active\n"
          ]
        }
      ]
    },
    {
      "cell_type": "markdown",
      "source": [
        "## logging parameters\n",
        "memasukkan hyperparameter selama training kedlm mlflow"
      ],
      "metadata": {
        "id": "njByCPcfTNoh"
      }
    },
    {
      "cell_type": "code",
      "source": [
        "if __name__ == \"__main__\":\n",
        "\n",
        "    # dptkan informasi dari eksperimen yg tlh kita buat\n",
        "    experiment = get_mlflow_experiment(experiment_name=\"testing_mlflow1\")\n",
        "    print(\"Name: {}\".format(experiment.name))\n",
        "\n",
        "    # jlnkan mlflow run pd id dari eksperimen yg kita inginkan\n",
        "    with mlflow.start_run(run_name=\"logging_params\", experiment_id = experiment.experiment_id) as run:\n",
        "\n",
        "        # hanya 1 log parameter yg dimasukkan kedlm mlflow yaitu hyperparameter learning rate\n",
        "        mlflow.log_param(\"learning_rate\", 0.01)\n",
        "\n",
        "        # setting semua hyperparameter\n",
        "        parameters = {\n",
        "            \"learning_rate\": 0.01,\n",
        "            \"epochs\": 10,\n",
        "            \"batch_size\": 100,\n",
        "            \"loss_function\": \"mse\",\n",
        "            \"optimizer\": \"adam\"\n",
        "        }\n",
        "\n",
        "        # masukkan semua hyperparameter kedlm mlflow melalui log param dimana parameternya adlh semua hyperparameter yg tlh kita setting diatas (bntknya dictionary)\n",
        "        mlflow.log_params(parameters)\n",
        "\n",
        "        # print run info\n",
        "        print(\"run_id: {}\".format(run.info.run_id))\n",
        "        print(\"experiment_id: {}\".format(run.info.experiment_id))\n",
        "        print(\"status: {}\".format(run.info.status))\n",
        "        print(\"start_time: {}\".format(run.info.start_time))\n",
        "        print(\"end_time: {}\".format(run.info.end_time))\n",
        "        print(\"lifecycle_stage: {}\".format(run.info.lifecycle_stage))"
      ],
      "metadata": {
        "colab": {
          "base_uri": "https://localhost:8080/"
        },
        "id": "8TO3mq3wTsvr",
        "outputId": "dcd53c88-7ff1-4e3a-8960-2b9e8c436ca2"
      },
      "execution_count": null,
      "outputs": [
        {
          "output_type": "stream",
          "name": "stdout",
          "text": [
            "Name: testing_mlflow1\n",
            "run_id: 0322780551bc463b9b203d9b9dcc3134\n",
            "experiment_id: 501789625614987955\n",
            "status: RUNNING\n",
            "start_time: 1703681276533\n",
            "end_time: None\n",
            "lifecycle_stage: active\n"
          ]
        }
      ]
    },
    {
      "cell_type": "markdown",
      "source": [
        "## Logging Metrics\n",
        "metrics disini adlh pengukuran kinerja dari model / evaluasi model sprti matrix : mse, akurasi, recall, dll"
      ],
      "metadata": {
        "id": "r-ey_ntxUmdo"
      }
    },
    {
      "cell_type": "code",
      "source": [
        "if __name__==\"__main__\":\n",
        "\n",
        "    experiment = get_mlflow_experiment(experiment_name=\"testing_mlflow1\")\n",
        "    print(\"Name: {}\".format(experiment.name))\n",
        "\n",
        "    with mlflow.start_run(run_name=\"logging_metrics\", experiment_id = experiment.experiment_id) as run:\n",
        "\n",
        "        # masukkan kedlm mlflow 1 log metrics yaitu random_metrics\n",
        "        mlflow.log_metric(\"random_metric\", 0.01)\n",
        "\n",
        "        # setting metrics (dlm bntk dictionary)\n",
        "        metrics = {\n",
        "            \"mse\": 0.01,\n",
        "            \"mae\": 0.01,\n",
        "            \"rmse\": 0.01,\n",
        "            \"r2\": 0.01\n",
        "        }\n",
        "\n",
        "        # masukkan kedlm mlflow semua metrics tsb yg sblm tlh kita setting\n",
        "        mlflow.log_metrics(metrics)\n",
        "\n",
        "        # print run info\n",
        "        print(\"run_id: {}\".format(run.info.run_id))\n",
        "        print(\"experiment_id: {}\".format(run.info.experiment_id))\n",
        "        print(\"status: {}\".format(run.info.status))\n",
        "        print(\"start_time: {}\".format(run.info.start_time))\n",
        "        print(\"end_time: {}\".format(run.info.end_time))\n",
        "        print(\"lifecycle_stage: {}\".format(run.info.lifecycle_stage))"
      ],
      "metadata": {
        "colab": {
          "base_uri": "https://localhost:8080/"
        },
        "id": "h--DnotbVHrH",
        "outputId": "61573c3b-16af-4570-c9e6-3551bb71e293"
      },
      "execution_count": null,
      "outputs": [
        {
          "output_type": "stream",
          "name": "stdout",
          "text": [
            "Name: testing_mlflow1\n",
            "run_id: 842fc31bb0b44024a5f043329b61261a\n",
            "experiment_id: 501789625614987955\n",
            "status: RUNNING\n",
            "start_time: 1703681579540\n",
            "end_time: None\n",
            "lifecycle_stage: active\n"
          ]
        }
      ]
    },
    {
      "cell_type": "markdown",
      "source": [
        "## Logging artifacts"
      ],
      "metadata": {
        "id": "farj7rLU65zK"
      }
    },
    {
      "cell_type": "markdown",
      "source": [
        "### menyimpan file ke artifact dlm mlflow\n",
        "artifact bisa berupa file hsl training, file yg dihslkan oleh model (hsl prediksi dlm bntk file)"
      ],
      "metadata": {
        "id": "D2EGHQ1r68od"
      }
    },
    {
      "cell_type": "code",
      "source": [
        "if __name__==\"__main__\":\n",
        "    experiment = get_mlflow_experiment(experiment_name=\"testing_mlflow1\")\n",
        "\n",
        "    print(\"Name: {}\".format(experiment.name))\n",
        "\n",
        "    with mlflow.start_run(run_name=\"logging_artifacts\", experiment_id=experiment.experiment_id) as run:\n",
        "\n",
        "        # buat file bernama hello_world.txt yg isinya adlah string hello world\n",
        "        with open(\"hello_world.txt\", \"w\") as f:\n",
        "            f.write(\"Hello World!\")\n",
        "\n",
        "        # masukkan file tsb kedlm artifact mlflow dimana local_path adlh path dari file-nya,\n",
        "        # artifact_path adlh nama path/direktori tempat artifact disimpan didlm mlflow\n",
        "        mlflow.log_artifact(local_path=\"hello_world.txt\", artifact_path=\"text_files\")\n",
        "\n",
        "        # print run info\n",
        "        print(\"run_id: {}\".format(run.info.run_id))\n",
        "        print(\"experiment_id: {}\".format(run.info.experiment_id))\n",
        "        print(\"status: {}\".format(run.info.status))\n",
        "        print(\"start_time: {}\".format(run.info.start_time))\n",
        "        print(\"end_time: {}\".format(run.info.end_time))\n",
        "        print(\"lifecycle_stage: {}\".format(run.info.lifecycle_stage))"
      ],
      "metadata": {
        "colab": {
          "base_uri": "https://localhost:8080/"
        },
        "id": "6UDkvmPo7YB9",
        "outputId": "b180a8ea-ba4e-45fa-f8d3-3715b2724b5d"
      },
      "execution_count": null,
      "outputs": [
        {
          "output_type": "stream",
          "name": "stdout",
          "text": [
            "Name: testing_mlflow1\n",
            "run_id: 3e7b63a06f8f427ca0b18c8056b7e293\n",
            "experiment_id: 172815588612644609\n",
            "status: RUNNING\n",
            "start_time: 1703691639921\n",
            "end_time: None\n",
            "lifecycle_stage: active\n"
          ]
        }
      ]
    },
    {
      "cell_type": "markdown",
      "source": [
        "### file yg disimpannya banyak\n",
        "jika sblmnya file yg tersimpan kedlm log artifact mlflow hanya satu, maka sekarang file nya lbh dr 1"
      ],
      "metadata": {
        "id": "GHRJOEnj84Uz"
      }
    },
    {
      "cell_type": "code",
      "source": [
        "# file nya\n",
        "!wget https://raw.githubusercontent.com/manuelgilm/mlflow_for_ml_dev/master/run_artifacts/confusion_matrix.jpeg\n",
        "with open(\"hello_world.txt\", \"w\") as f:\n",
        "  f.write(\"Hello World!\")\n",
        "!mkdir run_artifacts\n",
        "!mv /content/confusion_matrix.jpeg run_artifacts/\n",
        "!mv hello_world.txt run_artifacts/"
      ],
      "metadata": {
        "colab": {
          "base_uri": "https://localhost:8080/"
        },
        "id": "7zYmA9g69vO8",
        "outputId": "62309df0-6527-4b95-eb6e-5c4ec9b4fbc8"
      },
      "execution_count": null,
      "outputs": [
        {
          "output_type": "stream",
          "name": "stdout",
          "text": [
            "--2023-12-27 15:50:51--  https://raw.githubusercontent.com/manuelgilm/mlflow_for_ml_dev/master/run_artifacts/confusion_matrix.jpeg\n",
            "Resolving raw.githubusercontent.com (raw.githubusercontent.com)... 185.199.108.133, 185.199.109.133, 185.199.111.133, ...\n",
            "Connecting to raw.githubusercontent.com (raw.githubusercontent.com)|185.199.108.133|:443... connected.\n",
            "HTTP request sent, awaiting response... 200 OK\n",
            "Length: 17315 (17K) [image/jpeg]\n",
            "Saving to: ‘confusion_matrix.jpeg’\n",
            "\n",
            "\rconfusion_matrix.jp   0%[                    ]       0  --.-KB/s               \rconfusion_matrix.jp 100%[===================>]  16.91K  --.-KB/s    in 0s      \n",
            "\n",
            "2023-12-27 15:50:51 (75.2 MB/s) - ‘confusion_matrix.jpeg’ saved [17315/17315]\n",
            "\n"
          ]
        }
      ]
    },
    {
      "cell_type": "code",
      "source": [
        "if __name__==\"__main__\":\n",
        "\n",
        "    experiment = get_mlflow_experiment(experiment_name=\"testing_mlflow1\")\n",
        "\n",
        "    print(\"Name: {}\".format(experiment.name))\n",
        "\n",
        "    with mlflow.start_run(run_name=\"logging_artifacts\", experiment_id=experiment.experiment_id) as run:\n",
        "\n",
        "        # masukkan semua file yg ada di folder run_artifacts kedlm log artifact mlflow.\n",
        "        # semua artifacts akan ada di mlflow directory run_artifacts\n",
        "        mlflow.log_artifacts(local_dir=\"./run_artifacts\",artifact_path=\"run_artifacts\")\n",
        "\n",
        "        # print run info\n",
        "        print(\"run_id: {}\".format(run.info.run_id))\n",
        "        print(\"experiment_id: {}\".format(run.info.experiment_id))\n",
        "        print(\"status: {}\".format(run.info.status))\n",
        "        print(\"start_time: {}\".format(run.info.start_time))\n",
        "        print(\"end_time: {}\".format(run.info.end_time))\n",
        "        print(\"lifecycle_stage: {}\".format(run.info.lifecycle_stage))"
      ],
      "metadata": {
        "colab": {
          "base_uri": "https://localhost:8080/"
        },
        "id": "OnfeA6MZ9INh",
        "outputId": "cfea87c5-4c1e-4530-e0d3-2006a6edb85c"
      },
      "execution_count": null,
      "outputs": [
        {
          "output_type": "stream",
          "name": "stdout",
          "text": [
            "Name: testing_mlflow1\n",
            "run_id: 4d838755e8004aabb6979dfd2937d2ab\n",
            "experiment_id: 172815588612644609\n",
            "status: RUNNING\n",
            "start_time: 1703692386308\n",
            "end_time: None\n",
            "lifecycle_stage: active\n"
          ]
        }
      ]
    },
    {
      "cell_type": "markdown",
      "source": [
        "## Logging images\n",
        "memasukkan file berupa gambar kedlm mlflow.\n",
        "\n",
        "pd kasus ini file gambar yg dimasukkan kedlm log mlflow adlah metrics roc, precision-recall dan confusion matrix"
      ],
      "metadata": {
        "id": "xyT01ZjR_OLC"
      }
    },
    {
      "cell_type": "code",
      "source": [
        "import mlflow\n",
        "\n",
        "from sklearn.datasets import make_classification\n",
        "from sklearn.model_selection import train_test_split\n",
        "from sklearn.ensemble import RandomForestClassifier\n",
        "\n",
        "from sklearn.metrics import PrecisionRecallDisplay\n",
        "from sklearn.metrics import RocCurveDisplay\n",
        "from sklearn.metrics import ConfusionMatrixDisplay\n",
        "\n",
        "import matplotlib.pyplot as plt\n",
        "\n",
        "if __name__==\"__main__\":\n",
        "    # buat eksperimen\n",
        "    experiment_id = create_experiment_mlflow(\n",
        "        experiment_name = \"testing_mlflow1\",\n",
        "        artifact_save_location =\"testing_mlflow1_artifacts\",\n",
        "        tags={\"env\": \"dev\", \"version\": \"1.0.0\"},\n",
        "    )\n",
        "\n",
        "    # cari id dari eksperimen yg tlh dibuat\n",
        "    experiment = get_mlflow_experiment(experiment_name=\"testing_mlflow1\")\n",
        "    print(\"Name: {}\".format(experiment.name))\n",
        "\n",
        "    # jlnkana mlflow run\n",
        "    with mlflow.start_run(run_name=\"logging_images\", experiment_id=experiment.experiment_id) as run:\n",
        "\n",
        "        # buat dummy data\n",
        "        X, y = make_classification(n_samples=1000, n_features=10, n_informative=5, n_redundant=5, random_state=42)\n",
        "        # split data\n",
        "        X_train, X_test, y_train, y_test = train_test_split(X, y, test_size=0.2, random_state=43)\n",
        "\n",
        "        # inisialisasi model serta hyperparameternya\n",
        "        rfc = RandomForestClassifier(n_estimators=100, random_state=42)\n",
        "        # fitting dan training model\n",
        "        rfc.fit(X_train, y_train)\n",
        "        # prediksi\n",
        "        y_pred = rfc.predict(X_test)\n",
        "\n",
        "        # tampilkan kurva precision-recall dlm bntk gambar\n",
        "        fig_pr = plt.figure()\n",
        "        pr_display = PrecisionRecallDisplay.from_predictions(y_test, y_pred, ax=plt.gca())\n",
        "        plt.title(\"Precision-Recall Curve\")\n",
        "        plt.legend()\n",
        "\n",
        "        # masukkan gambar kurva precision-recall kedlm log gambar dlm mlflow\n",
        "        mlflow.log_figure(fig_pr, \"metrics/precision_recall_curve.png\")\n",
        "\n",
        "        # kurva ROC dlm bntk gambar\n",
        "        fig_roc = plt.figure()\n",
        "        roc_display = RocCurveDisplay.from_predictions(y_test, y_pred, ax=plt.gca())\n",
        "        plt.title(\"ROC Curve\")\n",
        "        plt.legend()\n",
        "\n",
        "        # masukkan gambar kurva ROC kedlm log gambar dlm mlflow\n",
        "        mlflow.log_figure(fig_roc, \"metrics/roc_curve.png\")\n",
        "\n",
        "        # gambar confusion matrix dlm bntk gambar\n",
        "        fig_cm = plt.figure()\n",
        "        cm_display = ConfusionMatrixDisplay.from_predictions(y_test, y_pred, ax=plt.gca())\n",
        "        plt.title(\"Confusion Matrix\")\n",
        "        plt.legend()\n",
        "\n",
        "        # masukkan gambar cm kedlm log gambar dlm mlflow\n",
        "        mlflow.log_figure(fig_cm, \"metrics/confusion_matrix.png\")\n",
        "\n",
        "        # print info about the run\n",
        "        print(\"run_id: {}\".format(run.info.run_id))\n",
        "        print(\"experiment_id: {}\".format(run.info.experiment_id))\n",
        "        print(\"status: {}\".format(run.info.status))\n",
        "        print(\"start_time: {}\".format(run.info.start_time))\n",
        "        print(\"end_time: {}\".format(run.info.end_time))\n",
        "        print(\"lifecycle_stage: {}\".format(run.info.lifecycle_stage))"
      ],
      "metadata": {
        "colab": {
          "base_uri": "https://localhost:8080/",
          "height": 1000
        },
        "id": "57KCfYvQ6fOb",
        "outputId": "c2a44262-061a-4c40-c9a9-890b9a1f3655"
      },
      "execution_count": 4,
      "outputs": [
        {
          "output_type": "stream",
          "name": "stdout",
          "text": [
            "Name: testing_mlflow1\n"
          ]
        },
        {
          "output_type": "stream",
          "name": "stderr",
          "text": [
            "WARNING:matplotlib.legend:No artists with labels found to put in legend.  Note that artists whose label start with an underscore are ignored when legend() is called with no argument.\n"
          ]
        },
        {
          "output_type": "stream",
          "name": "stdout",
          "text": [
            "run_id: 9beb01aece4d462e929e483a55664ea1\n",
            "experiment_id: 703447216231522529\n",
            "status: RUNNING\n",
            "start_time: 1703725225544\n",
            "end_time: None\n",
            "lifecycle_stage: active\n"
          ]
        },
        {
          "output_type": "display_data",
          "data": {
            "text/plain": [
              "<Figure size 640x480 with 1 Axes>"
            ],
            "image/png": "[encoded data removed]"
          },
          "metadata": {}
        },
        {
          "output_type": "display_data",
          "data": {
            "text/plain": [
              "<Figure size 640x480 with 1 Axes>"
            ],
            "image/png": "[encoded data removed]"
          },
          "metadata": {}
        },
        {
          "output_type": "display_data",
          "data": {
            "text/plain": [
              "<Figure size 640x480 with 2 Axes>"
            ],
            "image/png": "[encoded data removed]"
          },
          "metadata": {}
        }
      ]
    },
    {
      "cell_type": "markdown",
      "source": [
        "## logging models\n",
        "untuk memasukkan data model kedlm mlflow scra otomatis kita gunakan automatic logging dg demikian log dari parameter, metrics dan model akan dimasukkan scra otomatis.\n",
        "\n",
        "ada 2 cara untuk menggunakan `autologging` tersebut\n",
        "\n",
        "1. cara 1\n",
        "  \n",
        "  * panggil fungsi mlflow.autolog()\n",
        "  * jlnkan library model sprti keras, pytorch, sklearn, xgboost, spark, lightgbm, fastai, dll"
      ],
      "metadata": {
        "id": "t_f9HlYb_Q3f"
      }
    },
    {
      "cell_type": "code",
      "source": [
        "import mlflow\n",
        "\n",
        "from sklearn.datasets import make_classification\n",
        "from sklearn.model_selection import train_test_split\n",
        "from sklearn.ensemble import RandomForestClassifier\n",
        "\n",
        "if __name__==\"__main__\":\n",
        "    # buat eksperimen\n",
        "    experiment_id = create_experiment_mlflow(\n",
        "        experiment_name = \"testing_mlflow2\",\n",
        "        artifact_save_location =\"testing_mlflow1_artifacts_2\",\n",
        "        tags={\"env\": \"dev\", \"version\": \"1.0.0\"},\n",
        "    )\n",
        "\n",
        "    # get id eksperimen\n",
        "    experiment = get_mlflow_experiment(experiment_name=\"testing_mlflow2\")\n",
        "    print(\"Name: {}\".format(experiment.name))\n",
        "\n",
        "    with mlflow.start_run(run_name=\"logging_models\", experiment_id=experiment.experiment_id) as run:\n",
        "\n",
        "        # buat dummy data\n",
        "        X, y = make_classification(n_samples=1000, n_features=10, n_informative=5, n_redundant=5, random_state=42)\n",
        "        X_train, X_test, y_train, y_test = train_test_split(X, y, test_size=0.2, random_state=43) # split data\n",
        "\n",
        "        # jlnkan autologging\n",
        "        mlflow.autolog()\n",
        "\n",
        "        rfc = RandomForestClassifier(n_estimators=100, random_state=42) # inisialisasi model serta hyperparameternya\n",
        "        rfc.fit(X_train, y_train) # fitting dan training\n",
        "        y_pred = rfc.predict(X_test) # prediksi/inference\n",
        "\n",
        "        # print info about the run\n",
        "        print(\"run_id: {}\".format(run.info.run_id))\n",
        "        print(\"experiment_id: {}\".format(run.info.experiment_id))\n",
        "        print(\"status: {}\".format(run.info.status))\n",
        "        print(\"start_time: {}\".format(run.info.start_time))\n",
        "        print(\"end_time: {}\".format(run.info.end_time))\n",
        "        print(\"lifecycle_stage: {}\".format(run.info.lifecycle_stage))"
      ],
      "metadata": {
        "colab": {
          "base_uri": "https://localhost:8080/"
        },
        "id": "-W8Mlqfi_PhH",
        "outputId": "957477aa-c646-4716-dde0-7647404d44df"
      },
      "execution_count": 5,
      "outputs": [
        {
          "output_type": "stream",
          "name": "stdout",
          "text": [
            "Name: testing_mlflow2\n"
          ]
        },
        {
          "output_type": "stream",
          "name": "stderr",
          "text": [
            "2023/12/28 01:24:28 INFO mlflow.tracking.fluent: Autologging successfully enabled for sklearn.\n",
            "2023/12/28 01:24:36 WARNING mlflow.utils.autologging_utils: MLflow autologging encountered a warning: \"/usr/local/lib/python3.10/dist-packages/_distutils_hack/__init__.py:33: UserWarning: Setuptools is replacing distutils.\"\n"
          ]
        },
        {
          "output_type": "stream",
          "name": "stdout",
          "text": [
            "run_id: a4573b51ff7d45bf8c33728ce7300d2e\n",
            "experiment_id: 705775236571440430\n",
            "status: RUNNING\n",
            "start_time: 1703726667742\n",
            "end_time: None\n",
            "lifecycle_stage: active\n"
          ]
        }
      ]
    },
    {
      "cell_type": "markdown",
      "source": [
        "dg cara diatas maka log model atau lbh tepatnya dibagian artifacts/model isinya dibuat scra default sdngkan jika ingin customize maka gunakan cara dibawah. perbedaan diatas dan bwh adlh pd kode bwh kita tambahkan log model melalui `mlflow.sklearn.log_model(sk_model=rfc, artifact_path=\"random_forest_classifier\")` , ingat sklearn karena model kita menggunakan sklearn"
      ],
      "metadata": {
        "id": "UF5QWCmtCGNb"
      }
    },
    {
      "cell_type": "code",
      "source": [
        "import mlflow\n",
        "\n",
        "from sklearn.datasets import make_classification\n",
        "from sklearn.model_selection import train_test_split\n",
        "from sklearn.ensemble import RandomForestClassifier\n",
        "\n",
        "if __name__==\"__main__\":\n",
        "    # buat eksperimen\n",
        "    experiment_id = create_experiment_mlflow(\n",
        "        experiment_name = \"testing_mlflow3\",\n",
        "        artifact_save_location =\"testing_mlflow1_artifacts_3\",\n",
        "        tags={\"env\": \"dev\", \"version\": \"1.0.0\"},\n",
        "    )\n",
        "\n",
        "    # get id eksperimen\n",
        "    experiment = get_mlflow_experiment(experiment_name=\"testing_mlflow3\")\n",
        "    print(\"Name: {}\".format(experiment.name))\n",
        "\n",
        "    with mlflow.start_run(run_name=\"logging_models\", experiment_id=experiment.experiment_id) as run:\n",
        "\n",
        "        # buat dummy data\n",
        "        X, y = make_classification(n_samples=1000, n_features=10, n_informative=5, n_redundant=5, random_state=42)\n",
        "        X_train, X_test, y_train, y_test = train_test_split(X, y, test_size=0.2, random_state=43) # split data\n",
        "\n",
        "        # jlnkan autologging\n",
        "        mlflow.autolog()\n",
        "\n",
        "        rfc = RandomForestClassifier(n_estimators=100, random_state=42) # inisialisasi model serta hyperparameternya\n",
        "        rfc.fit(X_train, y_train) # fitting dan training\n",
        "        y_pred = rfc.predict(X_test) # prediksi/inference\n",
        "\n",
        "\n",
        "        # log model untuk library sklearn\n",
        "        mlflow.sklearn.log_model(sk_model=rfc, artifact_path=\"random_forest_classifier\")\n",
        "\n",
        "\n",
        "        # print info about the run\n",
        "        print(\"run_id: {}\".format(run.info.run_id))\n",
        "        print(\"experiment_id: {}\".format(run.info.experiment_id))\n",
        "        print(\"status: {}\".format(run.info.status))\n",
        "        print(\"start_time: {}\".format(run.info.start_time))\n",
        "        print(\"end_time: {}\".format(run.info.end_time))\n",
        "        print(\"lifecycle_stage: {}\".format(run.info.lifecycle_stage))"
      ],
      "metadata": {
        "colab": {
          "base_uri": "https://localhost:8080/"
        },
        "id": "tYQm108_Boyc",
        "outputId": "43812d1f-bf61-4628-8cf5-b68781aa956a"
      },
      "execution_count": 6,
      "outputs": [
        {
          "output_type": "stream",
          "name": "stderr",
          "text": [
            "2023/12/28 01:25:43 INFO mlflow.tracking.fluent: Autologging successfully enabled for sklearn.\n"
          ]
        },
        {
          "output_type": "stream",
          "name": "stdout",
          "text": [
            "Name: testing_mlflow3\n",
            "run_id: ddb40e93bebe409ab06f272154176994\n",
            "experiment_id: 352938691863661121\n",
            "status: RUNNING\n",
            "start_time: 1703726742945\n",
            "end_time: None\n",
            "lifecycle_stage: active\n"
          ]
        }
      ]
    },
    {
      "cell_type": "markdown",
      "source": [
        "jd jika ingin memasukkan model kedlm log model mlflow maka gunakan `mlflow.{libarary}.log_model()`"
      ],
      "metadata": {
        "id": "qRGfvP7FD0wQ"
      }
    },
    {
      "cell_type": "code",
      "source": [
        "import mlflow\n",
        "\n",
        "from sklearn.datasets import make_classification\n",
        "from sklearn.model_selection import train_test_split\n",
        "from sklearn.ensemble import RandomForestClassifier\n",
        "\n",
        "if __name__==\"__main__\":\n",
        "    # buat eksperimen\n",
        "    experiment_id = create_experiment_mlflow(\n",
        "        experiment_name = \"testing_mlflow4\",\n",
        "        artifact_save_location =\"testing_mlflow_artifacts_4\",\n",
        "        tags={\"env\": \"dev\", \"version\": \"1.0.0\"},\n",
        "    )\n",
        "\n",
        "    # get id eksperimen\n",
        "    experiment = get_mlflow_experiment(experiment_name=\"testing_mlflow4\")\n",
        "    print(\"Name: {}\".format(experiment.name))\n",
        "\n",
        "    with mlflow.start_run(run_name=\"logging_models\", experiment_id=experiment.experiment_id) as run:\n",
        "\n",
        "        # buat dummy data\n",
        "        X, y = make_classification(n_samples=1000, n_features=10, n_informative=5, n_redundant=5, random_state=42)\n",
        "        X_train, X_test, y_train, y_test = train_test_split(X, y, test_size=0.2, random_state=43) # split data\n",
        "\n",
        "        rfc = RandomForestClassifier(n_estimators=100, random_state=42) # inisialisasi model serta hyperparameternya\n",
        "        rfc.fit(X_train, y_train) # fitting dan training\n",
        "        y_pred = rfc.predict(X_test) # prediksi/inference\n",
        "\n",
        "\n",
        "        # log model untuk library sklearn\n",
        "        mlflow.sklearn.log_model(sk_model=rfc, artifact_path=\"random_forest_classifier\")\n",
        "\n",
        "\n",
        "        # print info about the run\n",
        "        print(\"run_id: {}\".format(run.info.run_id))\n",
        "        print(\"experiment_id: {}\".format(run.info.experiment_id))\n",
        "        print(\"status: {}\".format(run.info.status))\n",
        "        print(\"start_time: {}\".format(run.info.start_time))\n",
        "        print(\"end_time: {}\".format(run.info.end_time))\n",
        "        print(\"lifecycle_stage: {}\".format(run.info.lifecycle_stage))"
      ],
      "metadata": {
        "colab": {
          "base_uri": "https://localhost:8080/"
        },
        "id": "CqtQE1raEGOc",
        "outputId": "b9f73b5d-df0e-45bd-bbb7-d763eedc2453"
      },
      "execution_count": 8,
      "outputs": [
        {
          "output_type": "stream",
          "name": "stdout",
          "text": [
            "Name: testing_mlflow4\n",
            "run_id: 0db3ee37a79441c68ee3c544f66feb12\n",
            "experiment_id: 539674096601219744\n",
            "status: RUNNING\n",
            "start_time: 1703727428038\n",
            "end_time: None\n",
            "lifecycle_stage: active\n"
          ]
        }
      ]
    },
    {
      "cell_type": "markdown",
      "source": [
        "2. cara kedua untuk autologging adlh dg memanggil `mlflow.sklearn.autolog()`. kita tambahkan sklearn karena model yg kita latih menggunakan sklearn"
      ],
      "metadata": {
        "id": "NqSBcs-ZE2LW"
      }
    },
    {
      "cell_type": "code",
      "source": [
        "import mlflow\n",
        "\n",
        "from sklearn.datasets import make_classification\n",
        "from sklearn.model_selection import train_test_split\n",
        "from sklearn.ensemble import RandomForestClassifier\n",
        "\n",
        "if __name__==\"__main__\":\n",
        "    # buat eksperimen\n",
        "    experiment_id = create_experiment_mlflow(\n",
        "        experiment_name = \"testing_mlflow5\",\n",
        "        artifact_save_location =\"testing_mlflow1_artifacts_5\",\n",
        "        tags={\"env\": \"dev\", \"version\": \"1.0.0\"},\n",
        "    )\n",
        "\n",
        "    # get id eksperimen\n",
        "    experiment = get_mlflow_experiment(experiment_name=\"testing_mlflow5\")\n",
        "    print(\"Name: {}\".format(experiment.name))\n",
        "\n",
        "    with mlflow.start_run(run_name=\"logging_models\", experiment_id=experiment.experiment_id) as run:\n",
        "\n",
        "        # buat dummy data\n",
        "        X, y = make_classification(n_samples=1000, n_features=10, n_informative=5, n_redundant=5, random_state=42)\n",
        "        X_train, X_test, y_train, y_test = train_test_split(X, y, test_size=0.2, random_state=43) # split data\n",
        "\n",
        "        # jlnkan autologging\n",
        "        mlflow.sklearn.autolog()\n",
        "\n",
        "        rfc = RandomForestClassifier(n_estimators=100, random_state=42) # inisialisasi model serta hyperparameternya\n",
        "        rfc.fit(X_train, y_train) # fitting dan training\n",
        "        y_pred = rfc.predict(X_test) # prediksi/inference\n",
        "\n",
        "        # print info about the run\n",
        "        print(\"run_id: {}\".format(run.info.run_id))\n",
        "        print(\"experiment_id: {}\".format(run.info.experiment_id))\n",
        "        print(\"status: {}\".format(run.info.status))\n",
        "        print(\"start_time: {}\".format(run.info.start_time))\n",
        "        print(\"end_time: {}\".format(run.info.end_time))\n",
        "        print(\"lifecycle_stage: {}\".format(run.info.lifecycle_stage))"
      ],
      "metadata": {
        "colab": {
          "base_uri": "https://localhost:8080/"
        },
        "id": "yhPwBJdaFJCd",
        "outputId": "3bcecea8-3876-459e-9ee2-22c293955dc3"
      },
      "execution_count": 9,
      "outputs": [
        {
          "output_type": "stream",
          "name": "stdout",
          "text": [
            "Name: testing_mlflow5\n",
            "run_id: dcefc2887f064f058d54799204742b5b\n",
            "experiment_id: 757399246053618448\n",
            "status: RUNNING\n",
            "start_time: 1703727830080\n",
            "end_time: None\n",
            "lifecycle_stage: active\n"
          ]
        }
      ]
    },
    {
      "cell_type": "markdown",
      "source": [
        "## Model Inference\n",
        "dr model yg tlh dibuat dan dimasukkan kedlm mlflow sehingga dpt digunakan lewat framework flavor sekarang kita gunakan model tsb (load) lalu lakukan prediksi/inference"
      ],
      "metadata": {
        "id": "4_jGMUEZGgHX"
      }
    },
    {
      "cell_type": "code",
      "source": [
        "# file nya diload lewat mlflow run\n",
        "import mlflow\n",
        "\n",
        "from sklearn.datasets import make_classification\n",
        "from sklearn.model_selection import train_test_split\n",
        "from sklearn.ensemble import RandomForestClassifier\n",
        "\n",
        "import pandas as pd\n",
        "\n",
        "if __name__==\"__main__\":\n",
        "\n",
        "    run_id = \"dcefc2887f064f058d54799204742b5b\"\n",
        "\n",
        "    X, y = make_classification(n_samples=1000, n_features=10, n_informative=5, n_redundant=5, random_state=42)\n",
        "    X = pd.DataFrame(X, columns=[\"feature_{}\".format(i) for i in range(10)])\n",
        "    y = pd.DataFrame(y, columns=[\"target\"])\n",
        "\n",
        "    _, X_test, _, y_test = train_test_split(X, y, test_size=0.2, random_state=43)\n",
        "\n",
        "    # load model\n",
        "    # model_uri = f'runs:/{run_id}/{model atau nama_model}'\n",
        "    model_uri = f'runs:/{run_id}/model'\n",
        "    rfc = mlflow.sklearn.load_model(model_uri=model_uri)\n",
        "\n",
        "    # buat prediksi/inference\n",
        "    y_pred = rfc.predict(X_test)\n",
        "\n",
        "    # masukkan hsl prediksi kedlm dataframe\n",
        "    y_pred = pd.DataFrame(y_pred, columns=[\"prediction\"])\n",
        "\n",
        "    print(y_pred.head())"
      ],
      "metadata": {
        "colab": {
          "base_uri": "https://localhost:8080/"
        },
        "id": "wjhDIvJWOL0P",
        "outputId": "f9651d1d-1547-4bbc-b9c4-a4a1a97d5040"
      },
      "execution_count": 11,
      "outputs": [
        {
          "output_type": "stream",
          "name": "stdout",
          "text": [
            "   prediction\n",
            "0           0\n",
            "1           0\n",
            "2           0\n",
            "3           1\n",
            "4           0\n"
          ]
        },
        {
          "output_type": "stream",
          "name": "stderr",
          "text": [
            "/usr/local/lib/python3.10/dist-packages/sklearn/base.py:432: UserWarning: X has feature names, but RandomForestClassifier was fitted without feature names\n",
            "  warnings.warn(\n"
          ]
        }
      ]
    },
    {
      "cell_type": "code",
      "source": [
        "# file nya diload lewat file\n",
        "import mlflow\n",
        "\n",
        "from sklearn.datasets import make_classification\n",
        "from sklearn.model_selection import train_test_split\n",
        "from sklearn.ensemble import RandomForestClassifier\n",
        "\n",
        "import pandas as pd\n",
        "\n",
        "if __name__==\"__main__\":\n",
        "\n",
        "    run_id = \"dcefc2887f064f058d54799204742b5b\"\n",
        "\n",
        "    X, y = make_classification(n_samples=1000, n_features=10, n_informative=5, n_redundant=5, random_state=42)\n",
        "    X = pd.DataFrame(X, columns=[\"feature_{}\".format(i) for i in range(10)])\n",
        "    y = pd.DataFrame(y, columns=[\"target\"])\n",
        "\n",
        "    _, X_test, _, y_test = train_test_split(X, y, test_size=0.2, random_state=43)\n",
        "\n",
        "    # load model\n",
        "    model_uri = f\"file:///content/testing_mlflow1_artifacts_5/{run_id}/artifacts/model\"\n",
        "    rfc = mlflow.sklearn.load_model(model_uri=model_uri)\n",
        "\n",
        "    # buat prediksi/inference\n",
        "    y_pred = rfc.predict(X_test)\n",
        "\n",
        "    # masukkan hsl prediksi kedlm dataframe\n",
        "    y_pred = pd.DataFrame(y_pred, columns=[\"prediction\"])\n",
        "\n",
        "    print(y_pred.head())"
      ],
      "metadata": {
        "colab": {
          "base_uri": "https://localhost:8080/"
        },
        "id": "XYMVZ8oNGmw1",
        "outputId": "8a3fd29c-8cd8-4aba-ef86-409b7f89464b"
      },
      "execution_count": 10,
      "outputs": [
        {
          "output_type": "stream",
          "name": "stdout",
          "text": [
            "   prediction\n",
            "0           0\n",
            "1           0\n",
            "2           0\n",
            "3           1\n",
            "4           0\n"
          ]
        },
        {
          "output_type": "stream",
          "name": "stderr",
          "text": [
            "/usr/local/lib/python3.10/dist-packages/sklearn/base.py:432: UserWarning: X has feature names, but RandomForestClassifier was fitted without feature names\n",
            "  warnings.warn(\n"
          ]
        }
      ]
    },
    {
      "cell_type": "markdown",
      "source": [
        "## Nested Runs\n",
        "misal kita perlu running banyak model untuk mengetahui model yg terbaik maka gunakan nested run ini. sehingga setiap model akan memiliki mlflow run nya masing masing.\n",
        "\n",
        "nantinya akan ada parent run dan child run, kita bisa bayangkan ini sebagai nested if else"
      ],
      "metadata": {
        "id": "EJz9CWuZTiT9"
      }
    },
    {
      "cell_type": "code",
      "source": [
        "import mlflow\n",
        "\n",
        "# buat eksperimen baru\n",
        "experiment_id = create_experiment_mlflow(\n",
        "    experiment_name= \"Nested Runs\",\n",
        "    artifact_save_location = \"nested_run_artifacts\",\n",
        "    tags={\"purpose\":\"learning\"}\n",
        ")\n",
        "\n",
        "# parent run\n",
        "with mlflow.start_run(run_name=\"parent\") as parent:\n",
        "    print(\"RUN ID parent:\", parent.info.run_id)\n",
        "\n",
        "    # log parameter untuk parent run\n",
        "    mlflow.log_param(\"parent_param\", \"parent_value\")\n",
        "\n",
        "    # child run level 1 ke 1 (artinya ini bisa menjd parent kedua)\n",
        "    with mlflow.start_run(run_name=\"child1\",nested=True) as child1:\n",
        "        print(\"RUN ID child1:\", child1.info.run_id)\n",
        "\n",
        "        # log parameter untuk child run level 1 ke 1\n",
        "        mlflow.log_param(\"child1_param\", \"child1_value\")\n",
        "\n",
        "        # child run level 2 ke 1\n",
        "        with mlflow.start_run(run_name=\"child_11\", nested=True) as child_11:\n",
        "            print(\"RUN ID child_11:\", child_11.info.run_id )\n",
        "            # log parameter untuk child run level 2 ke 1\n",
        "            mlflow.log_param(\"child_11_param\", \"child_11_value\")\n",
        "\n",
        "        # child run level 2 ke 2\n",
        "        with mlflow.start_run(run_name=\"child_12\", nested=True) as child_12:\n",
        "            print(\"RUN ID child_12:\", child_12.info.run_id)\n",
        "            # log parameter untuk child run level 2 ke 2\n",
        "            mlflow.log_param(\"child_12_param\", \"child_12_value\")\n",
        "\n",
        "    # child run level 1 ke 2\n",
        "    with mlflow.start_run(run_name=\"child2\", nested=True) as child2:\n",
        "        print(\"RUN ID child2:\", child2.info.run_id)\n",
        "        # log parameter untuk child run level 1 ke 2\n",
        "        mlflow.log_param(\"child2_param\", \"child2_value\")"
      ],
      "metadata": {
        "colab": {
          "base_uri": "https://localhost:8080/"
        },
        "id": "XFx453JXUepq",
        "outputId": "54217c0f-689e-479b-a822-0b0c2de16b54"
      },
      "execution_count": 13,
      "outputs": [
        {
          "output_type": "stream",
          "name": "stdout",
          "text": [
            "RUN ID parent: f99ee61bce1a44998f7642677bf5e205\n",
            "RUN ID child1: 73e6ed74558c4f76bc88f0108f0598e2\n",
            "RUN ID child_11: 0c501d99efe943f89217be0248fb6612\n",
            "RUN ID child_12: de4ad0e33e164ab4b36e9db844979f46\n",
            "RUN ID child2: 7cee23483be84c39b7dfa00378dd962e\n"
          ]
        }
      ]
    },
    {
      "cell_type": "markdown",
      "source": [
        "## Log Custom Models\n",
        "misal kita ingin buat logic model, deploy model, membuat model sendiri tanpa library ml maka gunakan log custom model."
      ],
      "metadata": {
        "id": "_6OBmAnWXBck"
      }
    },
    {
      "cell_type": "code",
      "source": [
        "import mlflow\n",
        "\n",
        "class CustomModel(mlflow.pyfunc.PythonModel):\n",
        "\n",
        "    def __init__(self):\n",
        "        pass\n",
        "\n",
        "    def fit(self):\n",
        "        print(\"Fitting model...\")\n",
        "\n",
        "    def predict(self, context, model_input:[str]):\n",
        "        return self.get_prediction(model_input)\n",
        "\n",
        "    def get_prediction(self, model_input:[str]):\n",
        "        # do something with the model input\n",
        "        return \" \".join([w.upper() for w in model_input])\n",
        "\n",
        "\n",
        "if __name__==\"__main__\":\n",
        "\n",
        "    # buat eksperimen\n",
        "    experiment_id = create_experiment_mlflow(\n",
        "        experiment_name= \"Custom Models\",\n",
        "        artifact_save_location= \"custom_model_artifacts\",\n",
        "        tags={\"purpose\":\"learning\"}\n",
        "    )\n",
        "\n",
        "    # jlnkan mlflow run\n",
        "    with mlflow.start_run(run_name=\"custom_model_run\") as run:\n",
        "        custom_model = CustomModel() # instansiasi model\n",
        "\n",
        "        custom_model.fit() # fitting model\n",
        "\n",
        "        # log custom model\n",
        "        mlflow.pyfunc.log_model(\n",
        "            artifact_path=\"custom_model\",\n",
        "            python_model=custom_model)\n",
        "\n",
        "        # log parameter\n",
        "        mlflow.log_param(\"param1\", \"value1\")\n",
        "\n",
        "        # load model\n",
        "        custom_model = mlflow.pyfunc.load_model(f\"runs:/{run.info.run_id}/custom_model\")\n",
        "\n",
        "        prediction = custom_model.predict([\"hello\", \"world\"])\n",
        "        print(prediction)"
      ],
      "metadata": {
        "colab": {
          "base_uri": "https://localhost:8080/"
        },
        "id": "r0YHhoDXX_oQ",
        "outputId": "d27a719b-679f-4980-cc81-23f6fbc96380"
      },
      "execution_count": 15,
      "outputs": [
        {
          "output_type": "stream",
          "name": "stderr",
          "text": [
            "2023/12/28 03:07:16 INFO mlflow.types.utils: Unsupported type hint: [<class 'str'>], skipping schema inference\n"
          ]
        },
        {
          "output_type": "stream",
          "name": "stdout",
          "text": [
            "Fitting model...\n",
            "HELLO WORLD\n"
          ]
        }
      ]
    },
    {
      "cell_type": "markdown",
      "source": [
        "# Model Signature (model schema)\n",
        "digunakan untuk feature pd dataset.\n",
        "\n",
        "Model Signature : objek yg mengatur tipe data, shape data\n",
        "\n",
        "tipe data input dan output hrs ditentukan"
      ],
      "metadata": {
        "id": "uqUKsDvfjqts"
      }
    },
    {
      "cell_type": "code",
      "source": [
        "import mlflow\n",
        "\n",
        "from mlflow.models.signature import ModelSignature\n",
        "from mlflow.models.signature import infer_signature\n",
        "from mlflow.types.schema import Schema\n",
        "from mlflow.types.schema import ParamSchema\n",
        "from mlflow.types.schema import ParamSpec\n",
        "from mlflow.types.schema import ColSpec\n",
        "from sklearn.ensemble import RandomForestClassifier\n",
        "from sklearn.datasets import make_classification\n",
        "import pandas as pd\n",
        "from typing import Tuple\n",
        "\n",
        "# fungsi membuat dummy data\n",
        "def get_train_data() -> Tuple[pd.DataFrame]:\n",
        "    x, y = make_classification()\n",
        "    features = [f\"feature_{i+1}\" for i in range(x.shape[1])]\n",
        "    df = pd.DataFrame(x, columns=features)\n",
        "    df[\"label\"] = y\n",
        "\n",
        "    return df[features], df[\"label\"]\n",
        "\n",
        "\n",
        "if __name__ == \"__main__\":\n",
        "    x_train, y_train = get_train_data() # buat data\n",
        "    print(x_train.head())\n",
        "\n",
        "    # karena Schema memerlukan parameter berupa list yg bertipe colom spec atau tensor spec maka kita hrs buat list yg bertipe data salah satunya\n",
        "    # dlm kasus ini kita buat colom spec\n",
        "    cols_spec = []\n",
        "    # dictionary yg akan convert tipe data dlm pandas dataframe jd tipe data schema mlflow\n",
        "    data_map = {\n",
        "        'int64': 'integer',\n",
        "        'float64': 'double',\n",
        "        'bool': 'boolean',\n",
        "        'str': 'string',\n",
        "        \"date\": 'datetime'\n",
        "    }\n",
        "\n",
        "    print('='*10)\n",
        "    # convert tipe data dlm pandas dataframe jd tipe data schema mlflow\n",
        "    for name, dtype in x_train.dtypes.to_dict().items():\n",
        "      print(name, dtype) # cek tipe data stlh di convert\n",
        "      # masukkan tipe data yg tlh diconvert kedlm list coloum spec\n",
        "      cols_spec.append(ColSpec(name=name, type=data_map[str(dtype)]))\n",
        "\n",
        "    print('='*10)\n",
        "    print(cols_spec)\n",
        "\n",
        "    # buat schema untuk data/feature input, tipe datanya dari list dari coloum spec\n",
        "    input_schema = Schema(inputs=cols_spec)\n",
        "    # buat schema untuk data/feature output, karena hanya ada 1 feature maka tipe datanya langsung disetting lewat coloum spec\n",
        "    output_schema = Schema([ColSpec(name=\"label\", type=\"integer\")])\n",
        "\n",
        "    # parameter model\n",
        "    parameter = ParamSpec(name=\"model_name\", dtype=\"string\", default=\"model1\")\n",
        "    # schema untuk semua parameter, ini memerlukan argumen list yg bertipe parameter spec\n",
        "    param_schema = ParamSchema(params=[parameter])\n",
        "\n",
        "    print('='*10)\n",
        "    print(param_schema.to_dict())\n",
        "    print('='*10)\n",
        "    print(input_schema)\n",
        "    print('='*10)\n",
        "    print(output_schema)\n",
        "    print('='*10)\n",
        "    print(param_schema)\n",
        "\n",
        "    # buat model signature\n",
        "    model_signature = ModelSignature(inputs=input_schema, outputs=output_schema, params=param_schema)\n",
        "    print(\"MODEL SIGNATURE\")\n",
        "    print(model_signature.to_dict())"
      ],
      "metadata": {
        "colab": {
          "base_uri": "https://localhost:8080/"
        },
        "id": "vHwv7QeIkf5F",
        "outputId": "012ec3a9-939c-462d-f1f6-e8883bee1187"
      },
      "execution_count": 16,
      "outputs": [
        {
          "output_type": "stream",
          "name": "stdout",
          "text": [
            "   feature_1  feature_2  feature_3  feature_4  feature_5  feature_6  \\\n",
            "0  -1.655428  -0.029774  -0.314526   0.266540  -1.636493   0.704569   \n",
            "1  -1.719488  -1.488516  -0.658572  -0.588556   0.484831   1.571299   \n",
            "2   0.860618  -0.802506   1.446735  -0.769953   0.930349  -0.481154   \n",
            "3   0.325979   0.665760   0.977592   1.219310   0.984762   2.560448   \n",
            "4   1.656086  -0.521184  -0.464604  -0.568428  -2.045261   1.746882   \n",
            "\n",
            "   feature_7  feature_8  feature_9  feature_10  feature_11  feature_12  \\\n",
            "0  -1.833129  -0.844436  -0.669049   -0.154382    0.085872   -0.652582   \n",
            "1   0.535257  -0.098553   0.062183    0.042363    0.985608    1.076487   \n",
            "2   1.069983  -1.350921   2.511674    0.099768   -0.645089   -1.023508   \n",
            "3   0.353315   1.104999   0.562895   -0.230238    0.083001    1.489674   \n",
            "4  -2.943553   0.284729   1.540896   -0.474177    0.895235   -1.353340   \n",
            "\n",
            "   feature_13  feature_14  feature_15  feature_16  feature_17  feature_18  \\\n",
            "0    0.398696    1.289641    0.301131   -1.019879   -1.316616    0.184220   \n",
            "1    1.965456    0.124704    0.951265   -0.545397    0.838744    1.188740   \n",
            "2   -0.230599    1.674452   -1.650616    1.337527   -2.163674    0.478046   \n",
            "3    0.859988    1.135630    1.432545    0.733589   -1.216276   -0.367494   \n",
            "4   -0.442966   -0.493709    1.616336   -0.921668    1.384693    0.465079   \n",
            "\n",
            "   feature_19  feature_20  \n",
            "0   -1.125574   -0.290975  \n",
            "1    0.327098   -0.030841  \n",
            "2    0.662533   -0.905851  \n",
            "3    0.067679   -0.320635  \n",
            "4   -1.937300   -1.054068  \n",
            "==========\n",
            "feature_1 float64\n",
            "feature_2 float64\n",
            "feature_3 float64\n",
            "feature_4 float64\n",
            "feature_5 float64\n",
            "feature_6 float64\n",
            "feature_7 float64\n",
            "feature_8 float64\n",
            "feature_9 float64\n",
            "feature_10 float64\n",
            "feature_11 float64\n",
            "feature_12 float64\n",
            "feature_13 float64\n",
            "feature_14 float64\n",
            "feature_15 float64\n",
            "feature_16 float64\n",
            "feature_17 float64\n",
            "feature_18 float64\n",
            "feature_19 float64\n",
            "feature_20 float64\n",
            "==========\n",
            "['feature_1': double, 'feature_2': double, 'feature_3': double, 'feature_4': double, 'feature_5': double, 'feature_6': double, 'feature_7': double, 'feature_8': double, 'feature_9': double, 'feature_10': double, 'feature_11': double, 'feature_12': double, 'feature_13': double, 'feature_14': double, 'feature_15': double, 'feature_16': double, 'feature_17': double, 'feature_18': double, 'feature_19': double, 'feature_20': double]\n",
            "==========\n",
            "[{'name': 'model_name', 'type': 'string', 'default': 'model1', 'shape': None}]\n",
            "==========\n",
            "['feature_1': double, 'feature_2': double, 'feature_3': double, 'feature_4': double, 'feature_5': double, 'feature_6': double, 'feature_7': double, 'feature_8': double, 'feature_9': double, 'feature_10': double, 'feature_11': double, 'feature_12': double, 'feature_13': double, 'feature_14': double, 'feature_15': double, 'feature_16': double, 'feature_17': double, 'feature_18': double, 'feature_19': double, 'feature_20': double]\n",
            "==========\n",
            "['label': integer]\n",
            "==========\n",
            "['model_name': string (default: model1)]\n",
            "MODEL SIGNATURE\n",
            "{'inputs': '[{\"type\": \"double\", \"name\": \"feature_1\"}, {\"type\": \"double\", \"name\": \"feature_2\"}, {\"type\": \"double\", \"name\": \"feature_3\"}, {\"type\": \"double\", \"name\": \"feature_4\"}, {\"type\": \"double\", \"name\": \"feature_5\"}, {\"type\": \"double\", \"name\": \"feature_6\"}, {\"type\": \"double\", \"name\": \"feature_7\"}, {\"type\": \"double\", \"name\": \"feature_8\"}, {\"type\": \"double\", \"name\": \"feature_9\"}, {\"type\": \"double\", \"name\": \"feature_10\"}, {\"type\": \"double\", \"name\": \"feature_11\"}, {\"type\": \"double\", \"name\": \"feature_12\"}, {\"type\": \"double\", \"name\": \"feature_13\"}, {\"type\": \"double\", \"name\": \"feature_14\"}, {\"type\": \"double\", \"name\": \"feature_15\"}, {\"type\": \"double\", \"name\": \"feature_16\"}, {\"type\": \"double\", \"name\": \"feature_17\"}, {\"type\": \"double\", \"name\": \"feature_18\"}, {\"type\": \"double\", \"name\": \"feature_19\"}, {\"type\": \"double\", \"name\": \"feature_20\"}]', 'outputs': '[{\"type\": \"integer\", \"name\": \"label\"}]', 'params': '[{\"name\": \"model_name\", \"type\": \"string\", \"default\": \"model1\", \"shape\": null}]'}\n"
          ]
        }
      ]
    },
    {
      "cell_type": "code",
      "source": [
        "# inference signature, cara ke2 selain model signature. cara ini lbh singkat drpd model signature\n",
        "model_signature = infer_signature(x_train, y_train, params={\"model_name\": \"model1\"})\n",
        "print(\"MODEL SIGNATURE\")\n",
        "print(model_signature.to_dict())"
      ],
      "metadata": {
        "colab": {
          "base_uri": "https://localhost:8080/"
        },
        "id": "_biOAYZp2o_0",
        "outputId": "4b7e1121-058d-4df3-c0c5-bc8974043bb7"
      },
      "execution_count": 17,
      "outputs": [
        {
          "output_type": "stream",
          "name": "stdout",
          "text": [
            "MODEL SIGNATURE\n",
            "{'inputs': '[{\"type\": \"double\", \"name\": \"feature_1\"}, {\"type\": \"double\", \"name\": \"feature_2\"}, {\"type\": \"double\", \"name\": \"feature_3\"}, {\"type\": \"double\", \"name\": \"feature_4\"}, {\"type\": \"double\", \"name\": \"feature_5\"}, {\"type\": \"double\", \"name\": \"feature_6\"}, {\"type\": \"double\", \"name\": \"feature_7\"}, {\"type\": \"double\", \"name\": \"feature_8\"}, {\"type\": \"double\", \"name\": \"feature_9\"}, {\"type\": \"double\", \"name\": \"feature_10\"}, {\"type\": \"double\", \"name\": \"feature_11\"}, {\"type\": \"double\", \"name\": \"feature_12\"}, {\"type\": \"double\", \"name\": \"feature_13\"}, {\"type\": \"double\", \"name\": \"feature_14\"}, {\"type\": \"double\", \"name\": \"feature_15\"}, {\"type\": \"double\", \"name\": \"feature_16\"}, {\"type\": \"double\", \"name\": \"feature_17\"}, {\"type\": \"double\", \"name\": \"feature_18\"}, {\"type\": \"double\", \"name\": \"feature_19\"}, {\"type\": \"double\", \"name\": \"feature_20\"}]', 'outputs': '[{\"type\": \"long\", \"name\": \"label\"}]', 'params': '[{\"name\": \"model_name\", \"type\": \"string\", \"default\": \"model1\", \"shape\": null}]'}\n"
          ]
        },
        {
          "output_type": "stream",
          "name": "stderr",
          "text": [
            "/usr/local/lib/python3.10/dist-packages/mlflow/models/signature.py:213: UserWarning: Hint: Inferred schema contains integer column(s). Integer columns in Python cannot represent missing values. If your input data contains missing values at inference time, it will be encoded as floats and will cause a schema enforcement error. The best way to avoid this problem is to infer the model schema based on a realistic data sample (training dataset) that includes missing values. Alternatively, you can declare integer columns as doubles (float64) whenever these columns may have missing values. See `Handling Integers With Missing Values <https://www.mlflow.org/docs/latest/models.html#handling-integers-with-missing-values>`_ for more details.\n",
            "  outputs = _infer_schema(model_output) if model_output is not None else None\n"
          ]
        }
      ]
    },
    {
      "cell_type": "code",
      "source": [
        "# buat eksperimen\n",
        "experiment_id = create_experiment_mlflow(\n",
        "    experiment_name=\"Model Signature\",\n",
        "    artifact_save_location=\"model_signature_artifacts\",\n",
        "    tags={\"purpose\": \"learning\"},\n",
        "    )\n",
        "\n",
        "# jlnkan mlflow run\n",
        "with mlflow.start_run(run_name=\"model_signature_run\") as run:\n",
        "    mlflow.sklearn.log_model(\n",
        "        sk_model=RandomForestClassifier(),\n",
        "        artifact_path=\"model_signature\",\n",
        "        signature=model_signature,\n",
        "    )"
      ],
      "metadata": {
        "colab": {
          "base_uri": "https://localhost:8080/"
        },
        "id": "-N5wiglK26IG",
        "outputId": "4072f08b-9762-461a-b4ce-f773aa055730"
      },
      "execution_count": 19,
      "outputs": [
        {
          "output_type": "stream",
          "name": "stdout",
          "text": [
            "Experiment Model Signature already exists.\n"
          ]
        }
      ]
    },
    {
      "cell_type": "markdown",
      "source": [
        "# Serving Multiple Models to a Single Serving Endpoint\n",
        "ketika deploy banyak model, drpd setiap model menggunakan endpoin yg berbeda beda kita dpt menggunakan 1 endpoin untuk banyak model. hal ini tentunya dg menggunakan flavor"
      ],
      "metadata": {
        "id": "wDxNQS9P4JBb"
      }
    },
    {
      "cell_type": "code",
      "source": [
        "import mlflow\n",
        "\n",
        "from mlflow.models.signature import infer_signature\n",
        "from mlflow.models.signature import ModelSignature\n",
        "from mlflow.types import ColSpec\n",
        "from mlflow.types import Schema\n",
        "from mlflow.types import ParamSpec\n",
        "from mlflow.types import ParamSchema\n",
        "\n",
        "import numpy as np\n",
        "\n",
        "# anggap saja class ini untuk handle banyak inference model\n",
        "class CustomModel(mlflow.pyfunc.PythonModel):\n",
        "    def predict_model1(self, model_input):\n",
        "        # proses untuk model 1\n",
        "        return 0 * model_input\n",
        "\n",
        "    def predict_model2(self, model_input):\n",
        "        # proses untuk model 2\n",
        "        return model_input\n",
        "\n",
        "    def predict_model3(self, model_input):\n",
        "        # proses untuk model 3\n",
        "        return 2 * model_input\n",
        "\n",
        "    # kita gunakan if else untuk memilh modelnya\n",
        "    def predict(self, context, model_input, params):\n",
        "        if params[\"model_name\"] == \"model_1\":\n",
        "            return self.predict_model1(model_input=model_input)\n",
        "\n",
        "        elif params[\"model_name\"] == \"model_2\":\n",
        "            return self.predict_model2(model_input=model_input)\n",
        "\n",
        "        elif params[\"model_name\"] == \"model_3\":\n",
        "            return self.predict_model3(model_input=model_input)\n",
        "\n",
        "        else:\n",
        "            raise Exception(\"Model Not Found!\")\n",
        "\n",
        "\n",
        "if __name__ == \"__main__\":\n",
        "  # buat model\n",
        "    experiment_id = create_experiment_mlflow(\n",
        "        experiment_name=\"Serving Multiple Models\",\n",
        "        artifact_save_location=\"serving_multiple_models\",\n",
        "        tags={\"purpose\": \"learning\"},\n",
        "    )\n",
        "\n",
        "    # buat schema untuk input feature\n",
        "    input_schema = Schema(inputs=[ColSpec(type=\"integer\", name=\"input\")])\n",
        "    # buat schema untuk output feature\n",
        "    output_schema = Schema(inputs=[ColSpec(type=\"integer\", name=\"output\")])\n",
        "    # buat parameter spec\n",
        "    param_spec = ParamSpec(name=\"model_name\", dtype=\"string\", default=None)\n",
        "    # buat schema\n",
        "    param_schema = ParamSchema(params=[param_spec])\n",
        "    # buat signature model\n",
        "    model_signature = ModelSignature(\n",
        "        inputs=input_schema, outputs=output_schema, params=param_schema\n",
        "    )\n",
        "\n",
        "    # jlnkan mlflow run\n",
        "    with mlflow.start_run(run_name=\"multiple_models\", experiment_id=experiment_id) as run:\n",
        "\n",
        "        # log model\n",
        "        mlflow.pyfunc.log_model(artifact_path=\"model\", python_model=CustomModel(), signature=model_signature)\n",
        "\n",
        "        # load model\n",
        "        model_uri = f\"runs:/{run.info.run_id}/model\"\n",
        "        loaded_model = mlflow.pyfunc.load_model(model_uri=model_uri)\n",
        "\n",
        "        # buat prediksi\n",
        "        for n in range(3):\n",
        "            print(f\"PREDICTION FROM MODEL {n+1}\")\n",
        "            print(loaded_model.predict(data={\"input\":np.int32(10)}, params={\"model_name\":f\"model_{n+1}\"}))\n",
        "            print(\"\\n\")\n",
        "\n",
        "        print(f\"RUN_ID: {run.info.run_id}\")"
      ],
      "metadata": {
        "colab": {
          "base_uri": "https://localhost:8080/"
        },
        "id": "q1tAN8JYE2bq",
        "outputId": "bf953ae0-0021-4c62-9025-f6aff7d2448f"
      },
      "execution_count": 20,
      "outputs": [
        {
          "output_type": "stream",
          "name": "stdout",
          "text": [
            "PREDICTION FROM MODEL 1\n",
            "   input\n",
            "0      0\n",
            "\n",
            "\n",
            "PREDICTION FROM MODEL 2\n",
            "   input\n",
            "0     10\n",
            "\n",
            "\n",
            "PREDICTION FROM MODEL 3\n",
            "   input\n",
            "0     20\n",
            "\n",
            "\n",
            "RUN_ID: 693d8726b88f49be952322a16fffaca8\n"
          ]
        }
      ]
    },
    {
      "cell_type": "markdown",
      "source": [
        "kita buat endpoin api nya menggunakan mlflow"
      ],
      "metadata": {
        "id": "GNNnRFxIGZqz"
      }
    },
    {
      "cell_type": "code",
      "source": [
        "# # format jlnkan api\n",
        "# !mlflow models serve --model-uri runs:/{RUN ID}/model\n",
        "# contoh\n",
        "!mlflow models serve --model-uri runs:/693d8726b88f49be952322a16fffaca8/model"
      ],
      "metadata": {
        "id": "TVg-FpN8HiBF"
      },
      "execution_count": null,
      "outputs": []
    },
    {
      "cell_type": "markdown",
      "source": [
        "uji model lewat api\n",
        "\n",
        "untuk mengganti ke model yg kita inginkan dlm memprediksi data maka params pd model_name diganti misal\n",
        "* model_1 : gunakan model ke 1\n",
        "* model_2 : gunakan model ke 2"
      ],
      "metadata": {
        "id": "WkuHwwqwH3Qx"
      }
    },
    {
      "cell_type": "code",
      "source": [
        "import json\n",
        "import requests\n",
        "\n",
        "data = {\n",
        "    \"dataframe_split\": {\"columns\": [\"input\"], \"data\": [15]},\n",
        "    \"params\": {\"model_name\": \"model_1\"},\n",
        "}\n",
        "\n",
        "headers = {\"Content-Type\": \"application/json\"}\n",
        "endpoint = \"http://127.0.0.1:5000/invocations\"\n",
        "\n",
        "r = requests.post(endpoint, data=json.dumps(data), headers=headers)\n",
        "print(r.status_code)\n",
        "print(r.text)"
      ],
      "metadata": {
        "id": "bsD8qp6sGYDw"
      },
      "execution_count": null,
      "outputs": []
    }
  ]
}
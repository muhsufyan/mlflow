{
  "nbformat": 4,
  "nbformat_minor": 0,
  "metadata": {
    "colab": {
      "provenance": [],
      "toc_visible": true,
      "authorship_tag": "ABX9TyMIeN3Qy0gRl/odrFwowbjK"
    },
    "kernelspec": {
      "name": "python3",
      "display_name": "Python 3"
    },
    "language_info": {
      "name": "python"
    }
  },
  "cells": [
    {
      "cell_type": "markdown",
      "source": [
        "# install"
      ],
      "metadata": {
        "id": "VVebBm46CzdC"
      }
    },
    {
      "cell_type": "code",
      "execution_count": null,
      "metadata": {
        "colab": {
          "base_uri": "https://localhost:8080/"
        },
        "id": "CIBH6InCCv_0",
        "outputId": "098bb271-195d-41c4-f2c8-cd3f4fca3d81"
      },
      "outputs": [
        {
          "output_type": "stream",
          "name": "stdout",
          "text": [
            "Collecting mlflow\n",
            "  Downloading mlflow-2.9.2-py3-none-any.whl (19.1 MB)\n",
            "\u001b[2K     \u001b[90m━━━━━━━━━━━━━━━━━━━━━━━━━━━━━━━━━━━━━━━━\u001b[0m \u001b[32m19.1/19.1 MB\u001b[0m \u001b[31m65.7 MB/s\u001b[0m eta \u001b[36m0:00:00\u001b[0m\n",
            "\u001b[?25hRequirement already satisfied: click<9,>=7.0 in /usr/local/lib/python3.10/dist-packages (from mlflow) (8.1.7)\n",
            "Requirement already satisfied: cloudpickle<4 in /usr/local/lib/python3.10/dist-packages (from mlflow) (2.2.1)\n",
            "Collecting databricks-cli<1,>=0.8.7 (from mlflow)\n",
            "  Downloading databricks_cli-0.18.0-py2.py3-none-any.whl (150 kB)\n",
            "\u001b[2K     \u001b[90m━━━━━━━━━━━━━━━━━━━━━━━━━━━━━━━━━━━━━━━━\u001b[0m \u001b[32m150.3/150.3 kB\u001b[0m \u001b[31m21.1 MB/s\u001b[0m eta \u001b[36m0:00:00\u001b[0m\n",
            "\u001b[?25hRequirement already satisfied: entrypoints<1 in /usr/local/lib/python3.10/dist-packages (from mlflow) (0.4)\n",
            "Collecting gitpython<4,>=2.1.0 (from mlflow)\n",
            "  Downloading GitPython-3.1.40-py3-none-any.whl (190 kB)\n",
            "\u001b[2K     \u001b[90m━━━━━━━━━━━━━━━━━━━━━━━━━━━━━━━━━━━━━━━━\u001b[0m \u001b[32m190.6/190.6 kB\u001b[0m \u001b[31m24.8 MB/s\u001b[0m eta \u001b[36m0:00:00\u001b[0m\n",
            "\u001b[?25hRequirement already satisfied: pyyaml<7,>=5.1 in /usr/local/lib/python3.10/dist-packages (from mlflow) (6.0.1)\n",
            "Requirement already satisfied: protobuf<5,>=3.12.0 in /usr/local/lib/python3.10/dist-packages (from mlflow) (3.20.3)\n",
            "Requirement already satisfied: pytz<2024 in /usr/local/lib/python3.10/dist-packages (from mlflow) (2023.3.post1)\n",
            "Requirement already satisfied: requests<3,>=2.17.3 in /usr/local/lib/python3.10/dist-packages (from mlflow) (2.31.0)\n",
            "Requirement already satisfied: packaging<24 in /usr/local/lib/python3.10/dist-packages (from mlflow) (23.2)\n",
            "Requirement already satisfied: importlib-metadata!=4.7.0,<8,>=3.7.0 in /usr/local/lib/python3.10/dist-packages (from mlflow) (7.0.0)\n",
            "Requirement already satisfied: sqlparse<1,>=0.4.0 in /usr/local/lib/python3.10/dist-packages (from mlflow) (0.4.4)\n",
            "Collecting alembic!=1.10.0,<2 (from mlflow)\n",
            "  Downloading alembic-1.13.1-py3-none-any.whl (233 kB)\n",
            "\u001b[2K     \u001b[90m━━━━━━━━━━━━━━━━━━━━━━━━━━━━━━━━━━━━━━━━\u001b[0m \u001b[32m233.4/233.4 kB\u001b[0m \u001b[31m30.3 MB/s\u001b[0m eta \u001b[36m0:00:00\u001b[0m\n",
            "\u001b[?25hCollecting docker<7,>=4.0.0 (from mlflow)\n",
            "  Downloading docker-6.1.3-py3-none-any.whl (148 kB)\n",
            "\u001b[2K     \u001b[90m━━━━━━━━━━━━━━━━━━━━━━━━━━━━━━━━━━━━━━━━\u001b[0m \u001b[32m148.1/148.1 kB\u001b[0m \u001b[31m15.8 MB/s\u001b[0m eta \u001b[36m0:00:00\u001b[0m\n",
            "\u001b[?25hRequirement already satisfied: Flask<4 in /usr/local/lib/python3.10/dist-packages (from mlflow) (2.2.5)\n",
            "Requirement already satisfied: numpy<2 in /usr/local/lib/python3.10/dist-packages (from mlflow) (1.23.5)\n",
            "Requirement already satisfied: scipy<2 in /usr/local/lib/python3.10/dist-packages (from mlflow) (1.11.4)\n",
            "Requirement already satisfied: pandas<3 in /usr/local/lib/python3.10/dist-packages (from mlflow) (1.5.3)\n",
            "Collecting querystring-parser<2 (from mlflow)\n",
            "  Downloading querystring_parser-1.2.4-py2.py3-none-any.whl (7.9 kB)\n",
            "Requirement already satisfied: sqlalchemy<3,>=1.4.0 in /usr/local/lib/python3.10/dist-packages (from mlflow) (2.0.23)\n",
            "Requirement already satisfied: scikit-learn<2 in /usr/local/lib/python3.10/dist-packages (from mlflow) (1.2.2)\n",
            "Requirement already satisfied: pyarrow<15,>=4.0.0 in /usr/local/lib/python3.10/dist-packages (from mlflow) (10.0.1)\n",
            "Requirement already satisfied: markdown<4,>=3.3 in /usr/local/lib/python3.10/dist-packages (from mlflow) (3.5.1)\n",
            "Requirement already satisfied: matplotlib<4 in /usr/local/lib/python3.10/dist-packages (from mlflow) (3.7.1)\n",
            "Collecting gunicorn<22 (from mlflow)\n",
            "  Downloading gunicorn-21.2.0-py3-none-any.whl (80 kB)\n",
            "\u001b[2K     \u001b[90m━━━━━━━━━━━━━━━━━━━━━━━━━━━━━━━━━━━━━━━━\u001b[0m \u001b[32m80.2/80.2 kB\u001b[0m \u001b[31m10.0 MB/s\u001b[0m eta \u001b[36m0:00:00\u001b[0m\n",
            "\u001b[?25hRequirement already satisfied: Jinja2<4,>=2.11 in /usr/local/lib/python3.10/dist-packages (from mlflow) (3.1.2)\n",
            "Collecting Mako (from alembic!=1.10.0,<2->mlflow)\n",
            "  Downloading Mako-1.3.0-py3-none-any.whl (78 kB)\n",
            "\u001b[2K     \u001b[90m━━━━━━━━━━━━━━━━━━━━━━━━━━━━━━━━━━━━━━━━\u001b[0m \u001b[32m78.6/78.6 kB\u001b[0m \u001b[31m11.5 MB/s\u001b[0m eta \u001b[36m0:00:00\u001b[0m\n",
            "\u001b[?25hRequirement already satisfied: typing-extensions>=4 in /usr/local/lib/python3.10/dist-packages (from alembic!=1.10.0,<2->mlflow) (4.5.0)\n",
            "Requirement already satisfied: pyjwt>=1.7.0 in /usr/lib/python3/dist-packages (from databricks-cli<1,>=0.8.7->mlflow) (2.3.0)\n",
            "Requirement already satisfied: oauthlib>=3.1.0 in /usr/local/lib/python3.10/dist-packages (from databricks-cli<1,>=0.8.7->mlflow) (3.2.2)\n",
            "Requirement already satisfied: tabulate>=0.7.7 in /usr/local/lib/python3.10/dist-packages (from databricks-cli<1,>=0.8.7->mlflow) (0.9.0)\n",
            "Requirement already satisfied: six>=1.10.0 in /usr/local/lib/python3.10/dist-packages (from databricks-cli<1,>=0.8.7->mlflow) (1.16.0)\n",
            "Requirement already satisfied: urllib3<3,>=1.26.7 in /usr/local/lib/python3.10/dist-packages (from databricks-cli<1,>=0.8.7->mlflow) (2.0.7)\n",
            "Requirement already satisfied: websocket-client>=0.32.0 in /usr/local/lib/python3.10/dist-packages (from docker<7,>=4.0.0->mlflow) (1.7.0)\n",
            "Requirement already satisfied: Werkzeug>=2.2.2 in /usr/local/lib/python3.10/dist-packages (from Flask<4->mlflow) (3.0.1)\n",
            "Requirement already satisfied: itsdangerous>=2.0 in /usr/local/lib/python3.10/dist-packages (from Flask<4->mlflow) (2.1.2)\n",
            "Collecting gitdb<5,>=4.0.1 (from gitpython<4,>=2.1.0->mlflow)\n",
            "  Downloading gitdb-4.0.11-py3-none-any.whl (62 kB)\n",
            "\u001b[2K     \u001b[90m━━━━━━━━━━━━━━━━━━━━━━━━━━━━━━━━━━━━━━━━\u001b[0m \u001b[32m62.7/62.7 kB\u001b[0m \u001b[31m10.3 MB/s\u001b[0m eta \u001b[36m0:00:00\u001b[0m\n",
            "\u001b[?25hRequirement already satisfied: zipp>=0.5 in /usr/local/lib/python3.10/dist-packages (from importlib-metadata!=4.7.0,<8,>=3.7.0->mlflow) (3.17.0)\n",
            "Requirement already satisfied: MarkupSafe>=2.0 in /usr/local/lib/python3.10/dist-packages (from Jinja2<4,>=2.11->mlflow) (2.1.3)\n",
            "Requirement already satisfied: contourpy>=1.0.1 in /usr/local/lib/python3.10/dist-packages (from matplotlib<4->mlflow) (1.2.0)\n",
            "Requirement already satisfied: cycler>=0.10 in /usr/local/lib/python3.10/dist-packages (from matplotlib<4->mlflow) (0.12.1)\n",
            "Requirement already satisfied: fonttools>=4.22.0 in /usr/local/lib/python3.10/dist-packages (from matplotlib<4->mlflow) (4.46.0)\n",
            "Requirement already satisfied: kiwisolver>=1.0.1 in /usr/local/lib/python3.10/dist-packages (from matplotlib<4->mlflow) (1.4.5)\n",
            "Requirement already satisfied: pillow>=6.2.0 in /usr/local/lib/python3.10/dist-packages (from matplotlib<4->mlflow) (9.4.0)\n",
            "Requirement already satisfied: pyparsing>=2.3.1 in /usr/local/lib/python3.10/dist-packages (from matplotlib<4->mlflow) (3.1.1)\n",
            "Requirement already satisfied: python-dateutil>=2.7 in /usr/local/lib/python3.10/dist-packages (from matplotlib<4->mlflow) (2.8.2)\n",
            "Requirement already satisfied: charset-normalizer<4,>=2 in /usr/local/lib/python3.10/dist-packages (from requests<3,>=2.17.3->mlflow) (3.3.2)\n",
            "Requirement already satisfied: idna<4,>=2.5 in /usr/local/lib/python3.10/dist-packages (from requests<3,>=2.17.3->mlflow) (3.6)\n",
            "Requirement already satisfied: certifi>=2017.4.17 in /usr/local/lib/python3.10/dist-packages (from requests<3,>=2.17.3->mlflow) (2023.11.17)\n",
            "Requirement already satisfied: joblib>=1.1.1 in /usr/local/lib/python3.10/dist-packages (from scikit-learn<2->mlflow) (1.3.2)\n",
            "Requirement already satisfied: threadpoolctl>=2.0.0 in /usr/local/lib/python3.10/dist-packages (from scikit-learn<2->mlflow) (3.2.0)\n",
            "Requirement already satisfied: greenlet!=0.4.17 in /usr/local/lib/python3.10/dist-packages (from sqlalchemy<3,>=1.4.0->mlflow) (3.0.2)\n",
            "Collecting smmap<6,>=3.0.1 (from gitdb<5,>=4.0.1->gitpython<4,>=2.1.0->mlflow)\n",
            "  Downloading smmap-5.0.1-py3-none-any.whl (24 kB)\n",
            "Installing collected packages: smmap, querystring-parser, Mako, gunicorn, gitdb, docker, databricks-cli, alembic, gitpython, mlflow\n",
            "Successfully installed Mako-1.3.0 alembic-1.13.1 databricks-cli-0.18.0 docker-6.1.3 gitdb-4.0.11 gitpython-3.1.40 gunicorn-21.2.0 mlflow-2.9.2 querystring-parser-1.2.4 smmap-5.0.1\n"
          ]
        }
      ],
      "source": [
        "!pip install mlflow"
      ]
    },
    {
      "cell_type": "markdown",
      "source": [
        "# buat eksperimen\n",
        "yg dilakukan pd tahap ini adalah\n",
        "* melatih model\n",
        "* hyperparameter tuning\n",
        "* tracking training dan hyperparameternya menggunakan mlflow sehingga mlflow akan membuat artifact nya (isinya training, data dan konfigurasi hyperparameter)"
      ],
      "metadata": {
        "id": "Z9GMv8CFC5SL"
      }
    },
    {
      "cell_type": "code",
      "source": [
        "# membuat eksperimen yg dpt ditracking oleh mlflow\n",
        "import mlflow\n",
        "\n",
        "# artifact akan disimpan di directory experiment_artifact\n",
        "# artifact isinya bisa berupa training, hyperparameter, evaluasi, confusion matrix, file hasil training (untuk fine tuning), dll\n",
        "!mkdir experiment_artifact\n",
        "\n",
        "# buat eksperimen menggunakan mlflow\n",
        "mlflow.create_experiment(\n",
        "    name = \"experimen_1\",\n",
        "    artifact_location='experiment_artifact/',\n",
        "    tags = {\"env\":\"dev\", \"version\":\"1.0.0\"},\n",
        ")"
      ],
      "metadata": {
        "colab": {
          "base_uri": "https://localhost:8080/",
          "height": 35
        },
        "id": "dqDgEfbKC77c",
        "outputId": "d5b74c83-92c2-488f-b06c-07d1d0ed3ac6"
      },
      "execution_count": null,
      "outputs": [
        {
          "output_type": "execute_result",
          "data": {
            "text/plain": [
              "'486176321809614432'"
            ],
            "application/vnd.google.colaboratory.intrinsic+json": {
              "type": "string"
            }
          },
          "metadata": {},
          "execution_count": 4
        }
      ]
    },
    {
      "cell_type": "markdown",
      "source": [
        "ketika dirunning akan generate direktori mlruns/ isinya ada 0 (id dari eksperimen, dibuat scra otomatis oleh mlflow dan start defaultnya 0) dan 486176321809614432 (eksperimen yg dilakukan)\n",
        "\n",
        "isi dari mlruns/0/meta.yaml adlh\n",
        "\n",
        "    artifact_location: file:///content/mlruns/0\n",
        "    creation_time: 1703677323276\n",
        "    experiment_id: '0'\n",
        "    last_update_time: 1703677323276\n",
        "    lifecycle_stage: active\n",
        "    name: Default\n",
        "\n",
        "name nya Default karena id dibuat oleh mlflow\n",
        "\n",
        "isi dari mlruns/48617.../meta.yaml (artifact dari ekperimen yg kita lakukan)\n",
        "\n",
        "    artifact_location: /content/experiment_artifact\n",
        "    creation_time: 1703677323286\n",
        "    experiment_id: '486176321809614432'\n",
        "    last_update_time: 1703677323286\n",
        "    lifecycle_stage: active\n",
        "    name: experimen_1\n",
        "\n",
        "selain itu ada juga `/content/mlruns/486176321809614432/tags/env` dan `/content/mlruns/486176321809614432/tags/version` yg merupakan isi dari tags ketika kita pertama membuat experiment\n",
        "\n",
        "untuk melihat eksperimen dlm ui maka gunakan perintah berikut di terminal\n",
        "\n",
        "    mlflow ui\n",
        "\n",
        "\n"
      ],
      "metadata": {
        "id": "QvqLEh3MFTir"
      }
    },
    {
      "cell_type": "code",
      "source": [
        "!mlflow ui"
      ],
      "metadata": {
        "colab": {
          "base_uri": "https://localhost:8080/"
        },
        "id": "zRFbdX6mG1v_",
        "outputId": "1b84569f-3644-43a8-975d-bbdcceeeb845"
      },
      "execution_count": null,
      "outputs": [
        {
          "output_type": "stream",
          "name": "stdout",
          "text": [
            "[2023-12-27 11:49:13 +0000] [4461] [INFO] Starting gunicorn 21.2.0\n",
            "[2023-12-27 11:49:13 +0000] [4461] [INFO] Listening at: http://127.0.0.1:5000 (4461)\n",
            "[2023-12-27 11:49:13 +0000] [4461] [INFO] Using worker: sync\n",
            "[2023-12-27 11:49:13 +0000] [4462] [INFO] Booting worker with pid: 4462\n",
            "[2023-12-27 11:49:14 +0000] [4463] [INFO] Booting worker with pid: 4463\n",
            "[2023-12-27 11:49:14 +0000] [4464] [INFO] Booting worker with pid: 4464\n",
            "[2023-12-27 11:49:14 +0000] [4465] [INFO] Booting worker with pid: 4465\n",
            "\n",
            "Aborted!\n",
            "[2023-12-27 11:49:54 +0000] [4461] [INFO] Handling signal: int\n",
            "[2023-12-27 11:49:54 +0000] [4462] [INFO] Worker exiting (pid: 4462)\n",
            "[2023-12-27 11:49:54 +0000] [4465] [INFO] Worker exiting (pid: 4465)\n",
            "[2023-12-27 11:49:54 +0000] [4464] [INFO] Worker exiting (pid: 4464)\n",
            "[2023-12-27 11:49:54 +0000] [4463] [INFO] Worker exiting (pid: 4463)\n",
            "[2023-12-27 11:49:55 +0000] [4461] [INFO] Shutting down: Master\n"
          ]
        }
      ]
    },
    {
      "cell_type": "markdown",
      "source": [
        "agar lbh baik struktur kodenya maka kita buat fungsi eksperimen"
      ],
      "metadata": {
        "id": "dLFdcBjCHQc3"
      }
    },
    {
      "cell_type": "code",
      "source": [
        "import mlflow\n",
        "from typing import Any\n",
        "\n",
        "def create_experiment_mlflow(experiment_name: str, artifact_save_location: str, tags: dict[str, Any]) -> str:\n",
        "  # jika experiment blm pernah dibuat\n",
        "  try:\n",
        "    experiment_id = mlflow.create_experiment(\n",
        "        name = experiment_name, artifact_location = artifact_save_location, tags = tags\n",
        "    )\n",
        "  # jika experiment sdh pernah dibuat\n",
        "  except:\n",
        "    print(f\"Experiment {experiment_name} already exists.\")\n",
        "    # dptkan id dari experiment nya\n",
        "    experiment_id = mlflow.get_experiment_by_name(experiment_name).experiment_id\n",
        "\n",
        "  return experiment_id"
      ],
      "metadata": {
        "id": "V2llMj6qHV19"
      },
      "execution_count": null,
      "outputs": []
    },
    {
      "cell_type": "code",
      "source": [
        "experiment_id = create_experiment_mlflow(\n",
        "    experiment_name = \"experimen_1\",\n",
        "    artifact_save_location ='experiment_artifact/',\n",
        "    tags = {\"env\":\"dev\", \"version\":\"1.0.0\"},\n",
        ")\n",
        "print(experiment_id)"
      ],
      "metadata": {
        "colab": {
          "base_uri": "https://localhost:8080/"
        },
        "id": "KVbvFw6IJa3b",
        "outputId": "1b766a8c-5f02-42e6-f282-3da09ec59556"
      },
      "execution_count": null,
      "outputs": [
        {
          "output_type": "stream",
          "name": "stdout",
          "text": [
            "Experiment experimen_1 already exists.\n",
            "486176321809614432\n"
          ]
        }
      ]
    },
    {
      "cell_type": "code",
      "source": [
        "experiment_id = create_experiment_mlflow(\n",
        "    experiment_name = \"experimen_2\",\n",
        "    artifact_save_location ='experiment_artifact/',\n",
        "    tags = {\"env\":\"dev\", \"version\":\"1.0.0\"},\n",
        ")\n",
        "print(experiment_id)"
      ],
      "metadata": {
        "colab": {
          "base_uri": "https://localhost:8080/"
        },
        "id": "Ka7hkAjCJsjR",
        "outputId": "665e6fb2-3528-40ec-cd3d-e46c0f813f3c"
      },
      "execution_count": null,
      "outputs": [
        {
          "output_type": "stream",
          "name": "stdout",
          "text": [
            "531631867608238165\n"
          ]
        }
      ]
    },
    {
      "cell_type": "markdown",
      "source": [
        "# Retrieving Experiments\n",
        "mendapatkan informasi tentang eksperimen yg tlh dibuat."
      ],
      "metadata": {
        "id": "C4wMNHnUKem4"
      }
    },
    {
      "cell_type": "code",
      "source": [
        "import mlflow\n",
        "# untuk mendptkan informasi tentang eksperimen, mlflow perlu tahu id dari eksperimennya atau nama dari eksperimennya\n",
        "# sehingga kedua data tsb jd parameter pd fungsi yg kita buat\n",
        "def get_mlflow_experiment(experiment_id: str = None, experiment_name: str = None) -> mlflow.entities.Experiment:\n",
        "    # get informasi id eksperimen\n",
        "    if experiment_id is not None:\n",
        "        experiment = mlflow.get_experiment(experiment_id)\n",
        "    # get informasi nama eksperimen\n",
        "    elif experiment_name is not None:\n",
        "        experiment = mlflow.get_experiment_by_name(experiment_name)\n",
        "    # eksperiment tdk ada\n",
        "    else:\n",
        "        raise ValueError(\"Either experiment_id or experiment_name must be provided.\")\n",
        "    return experiment"
      ],
      "metadata": {
        "id": "Jj3lbeImK1CW"
      },
      "execution_count": null,
      "outputs": []
    },
    {
      "cell_type": "code",
      "source": [
        "# cari menggunakan id\n",
        "experiment = get_mlflow_experiment(experiment_id=\"486176321809614432\")\n",
        "\n",
        "print(\"Name: {}\".format(experiment.name))\n",
        "print(\"Experiment_id: {}\".format(experiment.experiment_id))\n",
        "print(\"Artifact Location: {}\".format(experiment.artifact_location))\n",
        "print(\"Tags: {}\".format(experiment.tags))\n",
        "print(\"Lifecycle_stage: {}\".format(experiment.lifecycle_stage))\n",
        "print(\"Creation timestamp: {}\".format(experiment.creation_time))"
      ],
      "metadata": {
        "colab": {
          "base_uri": "https://localhost:8080/"
        },
        "id": "QiBIZbvuLL5l",
        "outputId": "2e80c4d2-036f-44f6-cedf-6668a841b778"
      },
      "execution_count": null,
      "outputs": [
        {
          "output_type": "stream",
          "name": "stdout",
          "text": [
            "Name: experimen_1\n",
            "Experiment_id: 486176321809614432\n",
            "Artifact Location: /content/experiment_artifact\n",
            "Tags: {'version': '1.0.0', 'env': 'dev'}\n",
            "Lifecycle_stage: active\n",
            "Creation timestamp: 1703677323286\n"
          ]
        }
      ]
    },
    {
      "cell_type": "code",
      "source": [
        "# cari menggunakan nama\n",
        "experiment = get_mlflow_experiment(experiment_name=\"experimen_1\")\n",
        "\n",
        "print(\"Name: {}\".format(experiment.name))\n",
        "print(\"Experiment_id: {}\".format(experiment.experiment_id))\n",
        "print(\"Artifact Location: {}\".format(experiment.artifact_location))\n",
        "print(\"Tags: {}\".format(experiment.tags))\n",
        "print(\"Lifecycle_stage: {}\".format(experiment.lifecycle_stage))\n",
        "print(\"Creation timestamp: {}\".format(experiment.creation_time))"
      ],
      "metadata": {
        "colab": {
          "base_uri": "https://localhost:8080/"
        },
        "id": "EUsxjJCaLmjN",
        "outputId": "47fb08ee-6ae3-4906-d112-7e7580edd54f"
      },
      "execution_count": null,
      "outputs": [
        {
          "output_type": "stream",
          "name": "stdout",
          "text": [
            "Name: experimen_1\n",
            "Experiment_id: 486176321809614432\n",
            "Artifact Location: /content/experiment_artifact\n",
            "Tags: {'version': '1.0.0', 'env': 'dev'}\n",
            "Lifecycle_stage: active\n",
            "Creation timestamp: 1703677323286\n"
          ]
        }
      ]
    },
    {
      "cell_type": "markdown",
      "source": [
        "# Deleting experiment\n",
        "menghapus eksperimen yg tlh dibuat."
      ],
      "metadata": {
        "id": "qSDaHM1XMFn3"
      }
    },
    {
      "cell_type": "code",
      "source": [
        "import mlflow\n",
        "\n",
        "# hapus eksperimen dg id yg kita berikan\n",
        "mlflow.delete_experiment(experiment_id='531631867608238165')"
      ],
      "metadata": {
        "id": "iW3rfpKFMQ3s"
      },
      "execution_count": null,
      "outputs": []
    },
    {
      "cell_type": "markdown",
      "source": [
        "maka direktori mlruns/531631867608238165 akan dihapus"
      ],
      "metadata": {
        "id": "3eYRWL9QMpNd"
      }
    },
    {
      "cell_type": "markdown",
      "source": [
        "# MLflow runs"
      ],
      "metadata": {
        "id": "ZNwBy_ugO7qo"
      }
    },
    {
      "cell_type": "markdown",
      "source": [
        "## inisialisasi/memulai (start) mlflor run\n",
        "untuk mendptkan log maka kita perlu menjlnkan mlflow runs\n",
        "\n",
        "stlh itu baru kita dpt menyimpan log (misalnya parameter) kedlm eksperimen\n",
        "\n",
        "selain parameter kita bisa memasukkan description, metrics, tags, artifact kedlm eksperimen"
      ],
      "metadata": {
        "id": "e9Xeipo4M0UP"
      }
    },
    {
      "cell_type": "code",
      "source": [
        "import mlflow\n",
        "# inisialisasi mlflow runs\n",
        "mlflow.start_run()\n",
        "\n",
        "# informasi log parameter misalnya learning rate dimasukkan kedlm eksperimen\n",
        "mlflow.log_param(\"learning_rate\", 0.01)\n",
        "\n",
        "# akhiri mlflow runs nya\n",
        "mlflow.end_run()"
      ],
      "metadata": {
        "id": "HpsRl-4VNsPc"
      },
      "execution_count": null,
      "outputs": []
    },
    {
      "cell_type": "markdown",
      "source": [
        "## inisialisasi/memulai (start) mlflor run serta menggunakan with\n",
        "yg didlm indentasi with akan masuk kedlm log dari mlflow jd kode lbh simple"
      ],
      "metadata": {
        "id": "SCBAMXnyO9RY"
      }
    },
    {
      "cell_type": "code",
      "source": [
        "import mlflow\n",
        "with mlflow.start_run(run_name=\"mlflow_run\") as run:\n",
        "  # log parameter\n",
        "  mlflow.log_param('learning_rate',0.01)\n",
        "  print('Run id')\n",
        "  print(run.info.run_id)\n",
        "  print('='*10)\n",
        "  print(run.info)"
      ],
      "metadata": {
        "colab": {
          "base_uri": "https://localhost:8080/"
        },
        "id": "9ZZqTjKFPb_S",
        "outputId": "f569b583-478c-4603-e83d-96b0d09b614d"
      },
      "execution_count": null,
      "outputs": [
        {
          "output_type": "stream",
          "name": "stdout",
          "text": [
            "Run id\n",
            "c64fddea6ef040fba0502cf74ab0ee02\n",
            "==========\n",
            "<RunInfo: artifact_uri='file:///content/mlruns/0/c64fddea6ef040fba0502cf74ab0ee02/artifacts', end_time=None, experiment_id='0', lifecycle_stage='active', run_id='c64fddea6ef040fba0502cf74ab0ee02', run_name='mlflow_run', run_uuid='c64fddea6ef040fba0502cf74ab0ee02', start_time=1703680170426, status='RUNNING', user_id='root'>\n"
          ]
        }
      ]
    },
    {
      "cell_type": "markdown",
      "source": [
        "## tracking eksperimen\n"
      ],
      "metadata": {
        "id": "TNZInaXBQbQ2"
      }
    },
    {
      "cell_type": "code",
      "source": [
        "if __name__==\"__main__\":\n",
        "\n",
        "    # buat eksperimen\n",
        "    experiment_id = create_experiment_mlflow(\n",
        "        experiment_name = \"testing_mlflow1\",\n",
        "        artifact_save_location =\"testing_mlflow1_artifacts\",\n",
        "        tags={\"env\": \"dev\", \"version\": \"1.0.0\"},\n",
        "    )\n",
        "\n",
        "    # cari informasi dari eksperimen yg kita berikan menggunakan name\n",
        "    mlflow.set_experiment(experiment_name='testing_mlflow1')\n",
        "\n",
        "    # jlnkan mlflow run\n",
        "    with mlflow.start_run(run_name=\"testing\") as run:\n",
        "\n",
        "        # masukkan data learning rate kedlm log parameter\n",
        "        mlflow.log_param(\"learning_rate\",0.01)\n",
        "        # run info\n",
        "        print(\"run_id: {}\".format(run.info.run_id))\n",
        "        print(\"experiment_id: {}\".format(run.info.experiment_id))\n",
        "        print(\"status: {}\".format(run.info.status))\n",
        "        print(\"start_time: {}\".format(run.info.start_time))\n",
        "        print(\"end_time: {}\".format(run.info.end_time))\n",
        "        print(\"lifecycle_stage: {}\".format(run.info.lifecycle_stage))"
      ],
      "metadata": {
        "colab": {
          "base_uri": "https://localhost:8080/"
        },
        "id": "oXbopSZTR7-U",
        "outputId": "53afd774-639a-4efd-a24f-b953405f946f"
      },
      "execution_count": null,
      "outputs": [
        {
          "output_type": "stream",
          "name": "stdout",
          "text": [
            "run_id: 15fecba058bc4a1f8687af719a8bc608\n",
            "experiment_id: 501789625614987955\n",
            "status: RUNNING\n",
            "start_time: 1703680756382\n",
            "end_time: None\n",
            "lifecycle_stage: active\n"
          ]
        }
      ]
    },
    {
      "cell_type": "markdown",
      "source": [
        "sekarang kita lihat menggunakan id dari eksperimen"
      ],
      "metadata": {
        "id": "vN-M5ML_Scrl"
      }
    },
    {
      "cell_type": "code",
      "source": [
        "if __name__==\"__main__\":\n",
        "\n",
        "    # buat eksperimen\n",
        "    experiment_id = create_experiment_mlflow(\n",
        "        experiment_name = \"testing_mlflow1\",\n",
        "        artifact_save_location =\"testing_mlflow1_artifacts\",\n",
        "        tags={\"env\": \"dev\", \"version\": \"1.0.0\"},\n",
        "    )\n",
        "\n",
        "    # jlnkan mlflow run\n",
        "    with mlflow.start_run(run_name=\"testing\", experiment_id = experiment.experiment_id) as run:\n",
        "\n",
        "        # masukkan data learning rate kedlm log parameter\n",
        "        mlflow.log_param(\"learning_rate\",0.01)\n",
        "        # run info\n",
        "        print(\"run_id: {}\".format(run.info.run_id))\n",
        "        print(\"experiment_id: {}\".format(run.info.experiment_id))\n",
        "        print(\"status: {}\".format(run.info.status))\n",
        "        print(\"start_time: {}\".format(run.info.start_time))\n",
        "        print(\"end_time: {}\".format(run.info.end_time))\n",
        "        print(\"lifecycle_stage: {}\".format(run.info.lifecycle_stage))"
      ],
      "metadata": {
        "colab": {
          "base_uri": "https://localhost:8080/"
        },
        "id": "DfsVnfAvRHiu",
        "outputId": "76c10d5c-48e6-42bc-9e27-472d70e1497e"
      },
      "execution_count": null,
      "outputs": [
        {
          "output_type": "stream",
          "name": "stdout",
          "text": [
            "Experiment testing_mlflow1 already exists.\n",
            "run_id: 06ad669fb81140e3a97e401bde307e83\n",
            "experiment_id: 501789625614987955\n",
            "status: RUNNING\n",
            "start_time: 1703680884753\n",
            "end_time: None\n",
            "lifecycle_stage: active\n"
          ]
        }
      ]
    },
    {
      "cell_type": "markdown",
      "source": [
        "cari berdsrkan id eksperimen yg kita buat"
      ],
      "metadata": {
        "id": "eC5PDOt5S8XL"
      }
    },
    {
      "cell_type": "code",
      "source": [
        "if __name__==\"__main__\":\n",
        "\n",
        "    # buat eksperimen\n",
        "    experiment_id = create_experiment_mlflow(\n",
        "        experiment_name = \"testing_mlflow1\",\n",
        "        artifact_save_location =\"testing_mlflow1_artifacts\",\n",
        "        tags={\"env\": \"dev\", \"version\": \"1.0.0\"},\n",
        "    )\n",
        "\n",
        "    # dptkan informasi id dari eksperimen\n",
        "    experiment = get_mlflow_experiment(experiment_id=experiment_id)\n",
        "    print(\"Name: {}\".format(experiment.name))\n",
        "\n",
        "    # jlnkan mlflow run\n",
        "    with mlflow.start_run(run_name=\"testing\", experiment_id = experiment.experiment_id) as run:\n",
        "\n",
        "        # masukkan data learning rate kedlm log parameter\n",
        "        mlflow.log_param(\"learning_rate\",0.01)\n",
        "        # run info\n",
        "        print(\"run_id: {}\".format(run.info.run_id))\n",
        "        print(\"experiment_id: {}\".format(run.info.experiment_id))\n",
        "        print(\"status: {}\".format(run.info.status))\n",
        "        print(\"start_time: {}\".format(run.info.start_time))\n",
        "        print(\"end_time: {}\".format(run.info.end_time))\n",
        "        print(\"lifecycle_stage: {}\".format(run.info.lifecycle_stage))"
      ],
      "metadata": {
        "colab": {
          "base_uri": "https://localhost:8080/"
        },
        "id": "h_jMW2J9TAFS",
        "outputId": "36ce442b-cac7-4e81-9092-bf5bde698d02"
      },
      "execution_count": null,
      "outputs": [
        {
          "output_type": "stream",
          "name": "stdout",
          "text": [
            "Name: testing_mlflow1\n",
            "run_id: a7516f6584164744845f3f8e4037ee2b\n",
            "experiment_id: 172815588612644609\n",
            "status: RUNNING\n",
            "start_time: 1703691622188\n",
            "end_time: None\n",
            "lifecycle_stage: active\n"
          ]
        }
      ]
    },
    {
      "cell_type": "markdown",
      "source": [
        "## logging parameters\n",
        "memasukkan hyperparameter selama training kedlm mlflow"
      ],
      "metadata": {
        "id": "njByCPcfTNoh"
      }
    },
    {
      "cell_type": "code",
      "source": [
        "if __name__ == \"__main__\":\n",
        "\n",
        "    # dptkan informasi dari eksperimen yg tlh kita buat\n",
        "    experiment = get_mlflow_experiment(experiment_name=\"testing_mlflow1\")\n",
        "    print(\"Name: {}\".format(experiment.name))\n",
        "\n",
        "    # jlnkan mlflow run pd id dari eksperimen yg kita inginkan\n",
        "    with mlflow.start_run(run_name=\"logging_params\", experiment_id = experiment.experiment_id) as run:\n",
        "\n",
        "        # hanya 1 log parameter yg dimasukkan kedlm mlflow yaitu hyperparameter learning rate\n",
        "        mlflow.log_param(\"learning_rate\", 0.01)\n",
        "\n",
        "        # setting semua hyperparameter\n",
        "        parameters = {\n",
        "            \"learning_rate\": 0.01,\n",
        "            \"epochs\": 10,\n",
        "            \"batch_size\": 100,\n",
        "            \"loss_function\": \"mse\",\n",
        "            \"optimizer\": \"adam\"\n",
        "        }\n",
        "\n",
        "        # masukkan semua hyperparameter kedlm mlflow melalui log param dimana parameternya adlh semua hyperparameter yg tlh kita setting diatas (bntknya dictionary)\n",
        "        mlflow.log_params(parameters)\n",
        "\n",
        "        # print run info\n",
        "        print(\"run_id: {}\".format(run.info.run_id))\n",
        "        print(\"experiment_id: {}\".format(run.info.experiment_id))\n",
        "        print(\"status: {}\".format(run.info.status))\n",
        "        print(\"start_time: {}\".format(run.info.start_time))\n",
        "        print(\"end_time: {}\".format(run.info.end_time))\n",
        "        print(\"lifecycle_stage: {}\".format(run.info.lifecycle_stage))"
      ],
      "metadata": {
        "colab": {
          "base_uri": "https://localhost:8080/"
        },
        "id": "8TO3mq3wTsvr",
        "outputId": "dcd53c88-7ff1-4e3a-8960-2b9e8c436ca2"
      },
      "execution_count": null,
      "outputs": [
        {
          "output_type": "stream",
          "name": "stdout",
          "text": [
            "Name: testing_mlflow1\n",
            "run_id: 0322780551bc463b9b203d9b9dcc3134\n",
            "experiment_id: 501789625614987955\n",
            "status: RUNNING\n",
            "start_time: 1703681276533\n",
            "end_time: None\n",
            "lifecycle_stage: active\n"
          ]
        }
      ]
    },
    {
      "cell_type": "markdown",
      "source": [
        "## Logging Metrics\n",
        "metrics disini adlh pengukuran kinerja dari model / evaluasi model sprti matrix : mse, akurasi, recall, dll"
      ],
      "metadata": {
        "id": "r-ey_ntxUmdo"
      }
    },
    {
      "cell_type": "code",
      "source": [
        "if __name__==\"__main__\":\n",
        "\n",
        "    experiment = get_mlflow_experiment(experiment_name=\"testing_mlflow1\")\n",
        "    print(\"Name: {}\".format(experiment.name))\n",
        "\n",
        "    with mlflow.start_run(run_name=\"logging_metrics\", experiment_id = experiment.experiment_id) as run:\n",
        "\n",
        "        # masukkan kedlm mlflow 1 log metrics yaitu random_metrics\n",
        "        mlflow.log_metric(\"random_metric\", 0.01)\n",
        "\n",
        "        # setting metrics (dlm bntk dictionary)\n",
        "        metrics = {\n",
        "            \"mse\": 0.01,\n",
        "            \"mae\": 0.01,\n",
        "            \"rmse\": 0.01,\n",
        "            \"r2\": 0.01\n",
        "        }\n",
        "\n",
        "        # masukkan kedlm mlflow semua metrics tsb yg sblm tlh kita setting\n",
        "        mlflow.log_metrics(metrics)\n",
        "\n",
        "        # print run info\n",
        "        print(\"run_id: {}\".format(run.info.run_id))\n",
        "        print(\"experiment_id: {}\".format(run.info.experiment_id))\n",
        "        print(\"status: {}\".format(run.info.status))\n",
        "        print(\"start_time: {}\".format(run.info.start_time))\n",
        "        print(\"end_time: {}\".format(run.info.end_time))\n",
        "        print(\"lifecycle_stage: {}\".format(run.info.lifecycle_stage))"
      ],
      "metadata": {
        "colab": {
          "base_uri": "https://localhost:8080/"
        },
        "id": "h--DnotbVHrH",
        "outputId": "61573c3b-16af-4570-c9e6-3551bb71e293"
      },
      "execution_count": null,
      "outputs": [
        {
          "output_type": "stream",
          "name": "stdout",
          "text": [
            "Name: testing_mlflow1\n",
            "run_id: 842fc31bb0b44024a5f043329b61261a\n",
            "experiment_id: 501789625614987955\n",
            "status: RUNNING\n",
            "start_time: 1703681579540\n",
            "end_time: None\n",
            "lifecycle_stage: active\n"
          ]
        }
      ]
    },
    {
      "cell_type": "markdown",
      "source": [
        "## Logging artifacts"
      ],
      "metadata": {
        "id": "farj7rLU65zK"
      }
    },
    {
      "cell_type": "markdown",
      "source": [
        "### menyimpan file ke artifact dlm mlflow\n",
        "artifact bisa berupa file hsl training, file yg dihslkan oleh model (hsl prediksi dlm bntk file)"
      ],
      "metadata": {
        "id": "D2EGHQ1r68od"
      }
    },
    {
      "cell_type": "code",
      "source": [
        "if __name__==\"__main__\":\n",
        "    experiment = get_mlflow_experiment(experiment_name=\"testing_mlflow1\")\n",
        "\n",
        "    print(\"Name: {}\".format(experiment.name))\n",
        "\n",
        "    with mlflow.start_run(run_name=\"logging_artifacts\", experiment_id=experiment.experiment_id) as run:\n",
        "\n",
        "        # buat file bernama hello_world.txt yg isinya adlah string hello world\n",
        "        with open(\"hello_world.txt\", \"w\") as f:\n",
        "            f.write(\"Hello World!\")\n",
        "\n",
        "        # masukkan file tsb kedlm artifact mlflow dimana local_path adlh path dari file-nya,\n",
        "        # artifact_path adlh nama path/direktori tempat artifact disimpan didlm mlflow\n",
        "        mlflow.log_artifact(local_path=\"hello_world.txt\", artifact_path=\"text_files\")\n",
        "\n",
        "        # print run info\n",
        "        print(\"run_id: {}\".format(run.info.run_id))\n",
        "        print(\"experiment_id: {}\".format(run.info.experiment_id))\n",
        "        print(\"status: {}\".format(run.info.status))\n",
        "        print(\"start_time: {}\".format(run.info.start_time))\n",
        "        print(\"end_time: {}\".format(run.info.end_time))\n",
        "        print(\"lifecycle_stage: {}\".format(run.info.lifecycle_stage))"
      ],
      "metadata": {
        "colab": {
          "base_uri": "https://localhost:8080/"
        },
        "id": "6UDkvmPo7YB9",
        "outputId": "b180a8ea-ba4e-45fa-f8d3-3715b2724b5d"
      },
      "execution_count": null,
      "outputs": [
        {
          "output_type": "stream",
          "name": "stdout",
          "text": [
            "Name: testing_mlflow1\n",
            "run_id: 3e7b63a06f8f427ca0b18c8056b7e293\n",
            "experiment_id: 172815588612644609\n",
            "status: RUNNING\n",
            "start_time: 1703691639921\n",
            "end_time: None\n",
            "lifecycle_stage: active\n"
          ]
        }
      ]
    },
    {
      "cell_type": "markdown",
      "source": [
        "### file yg disimpannya banyak\n",
        "jika sblmnya file yg tersimpan kedlm log artifact mlflow hanya satu, maka sekarang file nya lbh dr 1"
      ],
      "metadata": {
        "id": "GHRJOEnj84Uz"
      }
    },
    {
      "cell_type": "code",
      "source": [
        "# file nya\n",
        "!wget https://raw.githubusercontent.com/manuelgilm/mlflow_for_ml_dev/master/run_artifacts/confusion_matrix.jpeg\n",
        "with open(\"hello_world.txt\", \"w\") as f:\n",
        "  f.write(\"Hello World!\")\n",
        "!mkdir run_artifacts\n",
        "!mv /content/confusion_matrix.jpeg run_artifacts/\n",
        "!mv hello_world.txt run_artifacts/"
      ],
      "metadata": {
        "colab": {
          "base_uri": "https://localhost:8080/"
        },
        "id": "7zYmA9g69vO8",
        "outputId": "62309df0-6527-4b95-eb6e-5c4ec9b4fbc8"
      },
      "execution_count": null,
      "outputs": [
        {
          "output_type": "stream",
          "name": "stdout",
          "text": [
            "--2023-12-27 15:50:51--  https://raw.githubusercontent.com/manuelgilm/mlflow_for_ml_dev/master/run_artifacts/confusion_matrix.jpeg\n",
            "Resolving raw.githubusercontent.com (raw.githubusercontent.com)... 185.199.108.133, 185.199.109.133, 185.199.111.133, ...\n",
            "Connecting to raw.githubusercontent.com (raw.githubusercontent.com)|185.199.108.133|:443... connected.\n",
            "HTTP request sent, awaiting response... 200 OK\n",
            "Length: 17315 (17K) [image/jpeg]\n",
            "Saving to: ‘confusion_matrix.jpeg’\n",
            "\n",
            "\rconfusion_matrix.jp   0%[                    ]       0  --.-KB/s               \rconfusion_matrix.jp 100%[===================>]  16.91K  --.-KB/s    in 0s      \n",
            "\n",
            "2023-12-27 15:50:51 (75.2 MB/s) - ‘confusion_matrix.jpeg’ saved [17315/17315]\n",
            "\n"
          ]
        }
      ]
    },
    {
      "cell_type": "code",
      "source": [
        "if __name__==\"__main__\":\n",
        "\n",
        "    experiment = get_mlflow_experiment(experiment_name=\"testing_mlflow1\")\n",
        "\n",
        "    print(\"Name: {}\".format(experiment.name))\n",
        "\n",
        "    with mlflow.start_run(run_name=\"logging_artifacts\", experiment_id=experiment.experiment_id) as run:\n",
        "\n",
        "        # masukkan semua file yg ada di folder run_artifacts kedlm log artifact mlflow.\n",
        "        # semua artifacts akan ada di mlflow directory run_artifacts\n",
        "        mlflow.log_artifacts(local_dir=\"./run_artifacts\",artifact_path=\"run_artifacts\")\n",
        "\n",
        "        # print run info\n",
        "        print(\"run_id: {}\".format(run.info.run_id))\n",
        "        print(\"experiment_id: {}\".format(run.info.experiment_id))\n",
        "        print(\"status: {}\".format(run.info.status))\n",
        "        print(\"start_time: {}\".format(run.info.start_time))\n",
        "        print(\"end_time: {}\".format(run.info.end_time))\n",
        "        print(\"lifecycle_stage: {}\".format(run.info.lifecycle_stage))"
      ],
      "metadata": {
        "colab": {
          "base_uri": "https://localhost:8080/"
        },
        "id": "OnfeA6MZ9INh",
        "outputId": "cfea87c5-4c1e-4530-e0d3-2006a6edb85c"
      },
      "execution_count": null,
      "outputs": [
        {
          "output_type": "stream",
          "name": "stdout",
          "text": [
            "Name: testing_mlflow1\n",
            "run_id: 4d838755e8004aabb6979dfd2937d2ab\n",
            "experiment_id: 172815588612644609\n",
            "status: RUNNING\n",
            "start_time: 1703692386308\n",
            "end_time: None\n",
            "lifecycle_stage: active\n"
          ]
        }
      ]
    },
    {
      "cell_type": "markdown",
      "source": [
        "## Logging images"
      ],
      "metadata": {
        "id": "xyT01ZjR_OLC"
      }
    },
    {
      "cell_type": "markdown",
      "source": [],
      "metadata": {
        "id": "t_f9HlYb_Q3f"
      }
    }
  ]
}